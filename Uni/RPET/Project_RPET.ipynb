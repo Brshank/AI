{
 "cells": [
  {
   "cell_type": "markdown",
   "metadata": {
    "cell_id": "00000-537b020a-6dec-42bc-832c-30fb46fa9dc0",
    "deepnote_cell_type": "text-cell-h1",
    "is_collapsed": false,
    "tags": []
   },
   "source": [
    "# RPET Project"
   ]
  },
  {
   "cell_type": "markdown",
   "metadata": {
    "cell_id": "00001-3673f198-c5b3-4ad4-9607-56327453d141",
    "deepnote_cell_type": "text-cell-h2",
    "is_collapsed": false,
    "tags": []
   },
   "source": [
    "## Hypothesis Testing &amp; Correlation of CGPA and CGPA w Internships Respectively"
   ]
  },
  {
   "cell_type": "markdown",
   "metadata": {
    "cell_id": "00001-821a50eb-b28d-43ed-baa2-bba8d23a7cf6",
    "deepnote_cell_type": "markdown",
    "tags": []
   },
   "source": [
    "### BY - \n",
    "\n",
    "#### BRSHANK NEGI  (I032)\n",
    " \n",
    "#### HANSIN PATWA  (I040)\n",
    "\n",
    "#### YAASHIE SABLA (I052)\n",
    "\n",
    "### https://github.com/Brshank/HypothesisTesting"
   ]
  },
  {
   "cell_type": "code",
   "execution_count": 1,
   "metadata": {
    "cell_id": "00002-870e7f16-a16f-4c83-9c83-9a39378c7f10",
    "deepnote_cell_type": "code",
    "deepnote_to_be_reexecuted": false,
    "execution_millis": 1687,
    "execution_start": 1634362436123,
    "source_hash": "7b2957b6",
    "tags": []
   },
   "outputs": [],
   "source": [
    "import scipy.stats as st\n",
    "import math\n",
    "import pandas as pd\n",
    "import numpy as np\n",
    "import matplotlib.pyplot as plt\n",
    "import seaborn as sns\n",
    "%matplotlib inline"
   ]
  },
  {
   "cell_type": "markdown",
   "metadata": {
    "cell_id": "00004-8e5bdf0d-c0ee-41c8-9ee9-4fe36a36cc74",
    "deepnote_cell_type": "text-cell-h1",
    "is_collapsed": false,
    "tags": []
   },
   "source": [
    "# Data Set"
   ]
  },
  {
   "cell_type": "code",
   "execution_count": 2,
   "metadata": {
    "cell_id": "00003-2ea1de02-8f5d-4dc2-bfa1-2858f3d7b92a",
    "deepnote_cell_type": "code",
    "deepnote_to_be_reexecuted": false,
    "execution_millis": 53,
    "execution_start": 1634362437814,
    "source_hash": "89cc6c93",
    "tags": []
   },
   "outputs": [
    {
     "data": {
      "text/html": [
       "<div>\n",
       "<style scoped>\n",
       "    .dataframe tbody tr th:only-of-type {\n",
       "        vertical-align: middle;\n",
       "    }\n",
       "\n",
       "    .dataframe tbody tr th {\n",
       "        vertical-align: top;\n",
       "    }\n",
       "\n",
       "    .dataframe thead th {\n",
       "        text-align: right;\n",
       "    }\n",
       "</style>\n",
       "<table border=\"1\" class=\"dataframe\">\n",
       "  <thead>\n",
       "    <tr style=\"text-align: right;\">\n",
       "      <th></th>\n",
       "      <th>Age</th>\n",
       "      <th>Gender</th>\n",
       "      <th>Stream</th>\n",
       "      <th>Internships</th>\n",
       "      <th>CGPA</th>\n",
       "      <th>Hostel</th>\n",
       "      <th>HistoryOfBacklogs</th>\n",
       "      <th>PlacedOrNot</th>\n",
       "    </tr>\n",
       "  </thead>\n",
       "  <tbody>\n",
       "    <tr>\n",
       "      <th>0</th>\n",
       "      <td>22</td>\n",
       "      <td>Male</td>\n",
       "      <td>Electronics And Communication</td>\n",
       "      <td>1</td>\n",
       "      <td>8</td>\n",
       "      <td>1</td>\n",
       "      <td>1</td>\n",
       "      <td>1</td>\n",
       "    </tr>\n",
       "    <tr>\n",
       "      <th>1</th>\n",
       "      <td>21</td>\n",
       "      <td>Female</td>\n",
       "      <td>Computer Science</td>\n",
       "      <td>0</td>\n",
       "      <td>7</td>\n",
       "      <td>1</td>\n",
       "      <td>1</td>\n",
       "      <td>1</td>\n",
       "    </tr>\n",
       "    <tr>\n",
       "      <th>2</th>\n",
       "      <td>22</td>\n",
       "      <td>Female</td>\n",
       "      <td>Information Technology</td>\n",
       "      <td>1</td>\n",
       "      <td>6</td>\n",
       "      <td>0</td>\n",
       "      <td>0</td>\n",
       "      <td>1</td>\n",
       "    </tr>\n",
       "    <tr>\n",
       "      <th>3</th>\n",
       "      <td>21</td>\n",
       "      <td>Male</td>\n",
       "      <td>Information Technology</td>\n",
       "      <td>0</td>\n",
       "      <td>8</td>\n",
       "      <td>0</td>\n",
       "      <td>1</td>\n",
       "      <td>1</td>\n",
       "    </tr>\n",
       "    <tr>\n",
       "      <th>4</th>\n",
       "      <td>22</td>\n",
       "      <td>Male</td>\n",
       "      <td>Mechanical</td>\n",
       "      <td>0</td>\n",
       "      <td>8</td>\n",
       "      <td>1</td>\n",
       "      <td>0</td>\n",
       "      <td>1</td>\n",
       "    </tr>\n",
       "  </tbody>\n",
       "</table>\n",
       "</div>"
      ],
      "text/plain": [
       "   Age  Gender                         Stream  Internships  CGPA  Hostel  \\\n",
       "0   22    Male  Electronics And Communication            1     8       1   \n",
       "1   21  Female               Computer Science            0     7       1   \n",
       "2   22  Female         Information Technology            1     6       0   \n",
       "3   21    Male         Information Technology            0     8       0   \n",
       "4   22    Male                     Mechanical            0     8       1   \n",
       "\n",
       "   HistoryOfBacklogs  PlacedOrNot  \n",
       "0                  1            1  \n",
       "1                  1            1  \n",
       "2                  0            1  \n",
       "3                  1            1  \n",
       "4                  0            1  "
      ]
     },
     "execution_count": 2,
     "metadata": {},
     "output_type": "execute_result"
    }
   ],
   "source": [
    "#defining data set \n",
    "data=pd.read_csv('collegePlace.csv')\n",
    "data.head()"
   ]
  },
  {
   "cell_type": "code",
   "execution_count": null,
   "metadata": {
    "cell_id": "00006-07f7897d-3a37-4b6b-88c6-cc8a59c67dc6",
    "deepnote_cell_type": "visualization"
   },
   "outputs": [],
   "source": []
  },
  {
   "cell_type": "markdown",
   "metadata": {
    "cell_id": "00006-6a139b2a-71bf-46e6-b6df-f3541bdb5945",
    "deepnote_cell_type": "text-cell-h1",
    "is_collapsed": false,
    "tags": []
   },
   "source": [
    "# Correlation between&nbsp;'CGPA&nbsp;'and&nbsp;'Internship'"
   ]
  },
  {
   "cell_type": "markdown",
   "metadata": {
    "cell_id": "00006-ab1bcf47-319c-4e71-85e7-609c9fe0b286",
    "deepnote_cell_type": "text-cell-h3",
    "is_collapsed": false,
    "tags": []
   },
   "source": [
    "### Problem Statement: How does Internships affect academic results(CGPA) ?"
   ]
  },
  {
   "cell_type": "code",
   "execution_count": 3,
   "metadata": {
    "cell_id": "00004-59477561-c15f-449f-9ae2-f131eefe50b8",
    "deepnote_cell_type": "code",
    "deepnote_to_be_reexecuted": false,
    "execution_millis": 2,
    "execution_start": 1634362437868,
    "source_hash": "7e4d4a2e",
    "tags": []
   },
   "outputs": [],
   "source": [
    "#we used correlation to describe the linear relationship between two our 2 variables\n",
    "CGPA=data[\"CGPA\"]\n",
    "Internship=data[\"Internships\"]"
   ]
  },
  {
   "cell_type": "code",
   "execution_count": 4,
   "metadata": {
    "cell_id": "00004-26c6e560-f774-4025-8aa3-19d927baa922",
    "deepnote_cell_type": "code",
    "deepnote_to_be_reexecuted": false,
    "execution_millis": 2,
    "execution_start": 1634362437919,
    "source_hash": "74a28d0",
    "tags": []
   },
   "outputs": [
    {
     "name": "stdout",
     "output_type": "stream",
     "text": [
      "CGPA: mean=7.074 stdv=0.968\n",
      "Internships: mean=0.704 stdv=0.740\n"
     ]
    }
   ],
   "source": [
    "\n",
    "print('CGPA: mean=%.3f stdv=%.3f' % (np.mean(CGPA), np.std(CGPA)))\n",
    "print('Internships: mean=%.3f stdv=%.3f' % (np.mean(Internship), np.std(Internship)))\n",
    "\n"
   ]
  },
  {
   "cell_type": "code",
   "execution_count": 5,
   "metadata": {
    "cell_id": "00006-311dab5d-d9f4-4557-89d7-d142994d06a8",
    "deepnote_cell_type": "code",
    "deepnote_to_be_reexecuted": false,
    "execution_millis": 690,
    "execution_start": 1634366798031,
    "source_hash": "a005e0ab",
    "tags": []
   },
   "outputs": [
    {
     "name": "stderr",
     "output_type": "stream",
     "text": [
      "C:\\Users\\Negi\\anaconda3\\lib\\site-packages\\seaborn\\_decorators.py:36: FutureWarning: Pass the following variables as keyword args: x, y. From version 0.12, the only valid positional argument will be `data`, and passing other arguments without an explicit keyword will result in an error or misinterpretation.\n",
      "  warnings.warn(\n"
     ]
    },
    {
     "data": {
      "text/plain": [
       "<AxesSubplot:xlabel='CGPA', ylabel='Internships'>"
      ]
     },
     "execution_count": 5,
     "metadata": {},
     "output_type": "execute_result"
    },
    {
     "data": {
      "image/png": "[encoded data removed]",
      "text/plain": [
       "<Figure size 1080x576 with 1 Axes>"
      ]
     },
     "metadata": {
      "needs_background": "light"
     },
     "output_type": "display_data"
    }
   ],
   "source": [
    "plt.figure(figsize=(15,8))\n",
    "sns.scatterplot(data['CGPA'],data['Internships'])"
   ]
  },
  {
   "cell_type": "code",
   "execution_count": 6,
   "metadata": {
    "cell_id": "00007-6decff7b-9481-4f4b-8202-d3ef8195c619",
    "deepnote_cell_type": "code",
    "deepnote_to_be_reexecuted": false,
    "execution_millis": 26,
    "execution_start": 1634367120185,
    "source_hash": "d6e2c3df",
    "tags": []
   },
   "outputs": [
    {
     "name": "stdout",
     "output_type": "stream",
     "text": [
      "Pearsons correlation: 0.023495693727057378\n"
     ]
    }
   ],
   "source": [
    "corr, _ = st.pearsonr(CGPA, Internship)#calculating correlation \n",
    "print('Pearsons correlation:', corr)"
   ]
  },
  {
   "cell_type": "markdown",
   "metadata": {
    "cell_id": "00008-b7907011-4a81-46e2-8cf6-bd297ace2726",
    "deepnote_cell_type": "text-cell-p",
    "is_collapsed": false,
    "tags": []
   },
   "source": [
    "As we can see that the correlation coefficient value is 0.0234. We can conclude from this that the doing internships have almost negligible effect. This can be proven by the fact that the value is very close to 0. But since the value is positive we can say that with the increase in the number of internships we have a greater chance of getting a higher score though  the effect is not way to apparent."
   ]
  },
  {
   "cell_type": "markdown",
   "metadata": {
    "cell_id": "00012-7edcb9b4-fcf8-4f96-ab63-b55768fd594d",
    "deepnote_cell_type": "text-cell-h1",
    "is_collapsed": false,
    "tags": []
   },
   "source": [
    "# Is&nbsp;there&nbsp;any&nbsp;relationship&nbsp;between&nbsp;'CGPA&nbsp;'and&nbsp;'Internship' = testing the relationship"
   ]
  },
  {
   "cell_type": "markdown",
   "metadata": {
    "cell_id": "00011-b01a7c51-fff5-4336-a901-68eb6b17599c",
    "deepnote_cell_type": "markdown",
    "tags": []
   },
   "source": [
    "\n",
    "\n",
    "### H0 : There is no relationship\n",
    "\n",
    "### Ha : There is relationship\n",
    "\n",
    "#### if p < 0.05 , then we reject NULL, There is relationship between CGPA and INTERNSHIP\n",
    "\n",
    "#### else, we fail to reject NULL Hypothesis."
   ]
  },
  {
   "cell_type": "code",
   "execution_count": 7,
   "metadata": {
    "cell_id": "00011-f558f0f4-f0f1-4342-b010-f0efa0ac8b8f",
    "deepnote_cell_type": "code",
    "deepnote_to_be_reexecuted": false,
    "execution_millis": 0,
    "execution_start": 1634362438187,
    "source_hash": "2659148b",
    "tags": []
   },
   "outputs": [
    {
     "name": "stdout",
     "output_type": "stream",
     "text": [
      "[[1.         0.02349569]\n",
      " [0.02349569 1.        ]]\n"
     ]
    }
   ],
   "source": [
    "print(np.corrcoef(CGPA, Internship))"
   ]
  },
  {
   "cell_type": "code",
   "execution_count": 8,
   "metadata": {
    "cell_id": "00012-75abded2-4e45-48f8-976b-f7fc2a8a13f7",
    "deepnote_cell_type": "code",
    "deepnote_to_be_reexecuted": false,
    "execution_millis": 74,
    "execution_start": 1634367066858,
    "source_hash": "5df5a902",
    "tags": []
   },
   "outputs": [
    {
     "name": "stdout",
     "output_type": "stream",
     "text": [
      "(0.023495693727057378, 0.2008139395441027)\n"
     ]
    }
   ],
   "source": [
    "print(st.pearsonr(CGPA, Internship))"
   ]
  },
  {
   "cell_type": "markdown",
   "metadata": {
    "cell_id": "00015-2793c79c-636a-4125-8ba8-ca66a0368b16",
    "deepnote_cell_type": "markdown",
    "tags": []
   },
   "source": [
    "#### Since p value(0.2008) is less than 0.05 we reject the NULL hypothesis. Hence, there is a relationship. Moreover, Correlation talks about the linear relationship between the variables. That means if one is changing the other is also changing"
   ]
  },
  {
   "cell_type": "markdown",
   "metadata": {
    "cell_id": "00018-6874c144-fc7a-47d5-95e8-a8e29d417777",
    "deepnote_cell_type": "text-cell-h1",
    "is_collapsed": false,
    "tags": []
   },
   "source": [
    "# Hypothesis Testing"
   ]
  },
  {
   "cell_type": "markdown",
   "metadata": {
    "cell_id": "00020-a19ae2b9-364f-433e-8c32-8c56e8fee38a",
    "deepnote_cell_type": "markdown",
    "tags": []
   },
   "source": [
    "### H0=Mean of students CGPA is 7.07 \n",
    "### H1=Mean of students CGPA is NOTEQUAL to 7.07"
   ]
  },
  {
   "cell_type": "markdown",
   "metadata": {
    "cell_id": "00021-2c559ecc-ee7a-4187-965c-95156642ac32",
    "deepnote_cell_type": "markdown",
    "tags": []
   },
   "source": [
    "#### From the not equal to sign, this is a 2 tailed test"
   ]
  },
  {
   "cell_type": "markdown",
   "metadata": {
    "cell_id": "00020-b81e8d51-9016-42df-9907-bf00f68b8fab",
    "deepnote_cell_type": "markdown",
    "tags": []
   },
   "source": [
    "### value of $z$ at .05 making it .025 for 2 sided we know from $z table$ $\\underline{+}$1.96"
   ]
  },
  {
   "cell_type": "markdown",
   "metadata": {
    "cell_id": "00015-d0fef999-4853-4991-8c42-28dac81c5d06",
    "deepnote_cell_type": "markdown",
    "tags": []
   },
   "source": [
    "## H0=>  μ=7.07\n",
    "## H1=>  μ!=7.07"
   ]
  },
  {
   "cell_type": "code",
   "execution_count": 9,
   "metadata": {
    "cell_id": "00023-73fc54af-9a14-472e-a45c-dec1d76338e0",
    "deepnote_cell_type": "code",
    "deepnote_to_be_reexecuted": false,
    "execution_millis": 256,
    "execution_start": 1634366948752,
    "source_hash": "898ec451",
    "tags": []
   },
   "outputs": [
    {
     "name": "stderr",
     "output_type": "stream",
     "text": [
      "C:\\Users\\Negi\\anaconda3\\lib\\site-packages\\seaborn\\distributions.py:2551: FutureWarning: `distplot` is a deprecated function and will be removed in a future version. Please adapt your code to use either `displot` (a figure-level function with similar flexibility) or `histplot` (an axes-level function for histograms).\n",
      "  warnings.warn(msg, FutureWarning)\n"
     ]
    },
    {
     "data": {
      "image/png": "[encoded data removed]",
      "text/plain": [
       "<Figure size 432x288 with 1 Axes>"
      ]
     },
     "metadata": {
      "needs_background": "light"
     },
     "output_type": "display_data"
    }
   ],
   "source": [
    "from scipy.stats import norm\n",
    "ax = sns.distplot(CGPA, fit=norm, kde=False,color='royalblue')"
   ]
  },
  {
   "cell_type": "code",
   "execution_count": 10,
   "metadata": {
    "cell_id": "00016-ffd19c1f-e223-4be4-be7a-4a3cb53bfd60",
    "deepnote_cell_type": "code",
    "deepnote_to_be_reexecuted": false,
    "execution_millis": 30740474,
    "execution_start": 1634362438189,
    "source_hash": "63026a44",
    "tags": []
   },
   "outputs": [],
   "source": [
    "sampData=data['CGPA']"
   ]
  },
  {
   "cell_type": "code",
   "execution_count": 11,
   "metadata": {
    "cell_id": "00015-b872a47a-ea30-4d43-9225-e72ee3c6a55d",
    "deepnote_cell_type": "code",
    "deepnote_to_be_reexecuted": false,
    "execution_millis": 30740475,
    "execution_start": 1634362438192,
    "source_hash": "2584b708",
    "tags": []
   },
   "outputs": [
    {
     "data": {
      "text/plain": [
       "7.073836817262306"
      ]
     },
     "execution_count": 11,
     "metadata": {},
     "output_type": "execute_result"
    }
   ],
   "source": [
    "sampData.mean()"
   ]
  },
  {
   "cell_type": "markdown",
   "metadata": {
    "cell_id": "00027-b557d8ba-045e-4bf4-91db-9527a3c6a205",
    "deepnote_cell_type": "markdown",
    "tags": []
   },
   "source": [
    "## Mathematically we found that CGPA mean = 7.07 so now, We will be statistically testing thisby the Hypothesis Testing. "
   ]
  },
  {
   "cell_type": "code",
   "execution_count": 12,
   "metadata": {
    "cell_id": "00018-c9ced0b0-7e65-459b-9898-4752e16c2861",
    "deepnote_cell_type": "code",
    "deepnote_to_be_reexecuted": false,
    "execution_millis": 15740822,
    "execution_start": 1634362438238,
    "source_hash": "90aac60b",
    "tags": []
   },
   "outputs": [],
   "source": [
    "cgpa=data.sort_values(\"CGPA\")[\"CGPA\"]  #sort cgpa values \n",
    "meanSampData=sampData.mean()           #mean of the sample Data\n",
    "hypMean=7.07                           #Hypothetical Mean \n",
    "N=len(CGPA)                   \n",
    "standPop=np.std(data['CGPA']) "
   ]
  },
  {
   "cell_type": "code",
   "execution_count": 13,
   "metadata": {
    "cell_id": "00019-385be89e-6b50-47cf-a548-267a4482c748",
    "deepnote_cell_type": "code",
    "deepnote_to_be_reexecuted": false,
    "execution_millis": 7,
    "execution_start": 1634367283954,
    "source_hash": "75d044b7",
    "tags": []
   },
   "outputs": [
    {
     "name": "stdout",
     "output_type": "stream",
     "text": [
      "Z score is== 0.216\n"
     ]
    }
   ],
   "source": [
    "Z=(meanSampData-hypMean)/(standPop/math.sqrt(N))\n",
    "print('Z score is==',np.round(Z,decimals=3))"
   ]
  },
  {
   "cell_type": "markdown",
   "metadata": {
    "cell_id": "00027-260573c0-17e0-4671-ae35-b87853ba1c8f",
    "deepnote_cell_type": "text-cell-h3",
    "is_collapsed": false,
    "tags": []
   },
   "source": [
    "### As our Z-score is 0.216"
   ]
  },
  {
   "cell_type": "markdown",
   "metadata": {
    "cell_id": "00027-5f7a6082-11fd-4b64-ab6d-dacb4ad06df0",
    "deepnote_cell_type": "text-cell-h3",
    "is_collapsed": false,
    "tags": []
   },
   "source": [
    "### Critical region:taking95% confidence  ==&gt; (-∞, -1.960] ∪ [1.960, +∞)"
   ]
  },
  {
   "cell_type": "markdown",
   "metadata": {
    "cell_id": "00028-e2ca5a75-2ec8-4653-9bf9-5292d06d31f5",
    "deepnote_cell_type": "text-cell-h3",
    "is_collapsed": false,
    "tags": []
   },
   "source": [
    "### Decision: Our Z-score doesn't belong to the critical region, so&nbsp;we accept H₀ and reject H₁."
   ]
  },
  {
   "cell_type": "markdown",
   "metadata": {
    "cell_id": "00031-df9c5feb-12bc-4621-82b6-65fe49ad6240",
    "deepnote_cell_type": "text-cell-h1",
    "is_collapsed": false,
    "tags": []
   },
   "source": [
    "# CONCLUSION&nbsp;-&nbsp;"
   ]
  },
  {
   "cell_type": "markdown",
   "metadata": {
    "cell_id": "00032-610b7013-a61a-4ba1-884c-b05885cf22c4",
    "deepnote_cell_type": "markdown",
    "tags": []
   },
   "source": [
    "### Hence we found the correlation (between CGPA and Internships)\n",
    "#### we further verify our result using the T test and finding the 2 tailed P value and prove our hypothesis that CGPA and Internship are correlated no matter how negligible it may be\n",
    "### and Hypothesis testing of whether the mean of student's CGPA  is 7.07 or not ."
   ]
  },
  {
   "cell_type": "markdown",
   "metadata": {
    "created_in_deepnote_cell": true,
    "deepnote_cell_type": "markdown",
    "tags": []
   },
   "source": [
    "<a style='text-decoration:none;line-height:16px;display:flex;color:#5B5B62;padding:10px;justify-content:end;' href='https://deepnote.com?utm_source=created-in-deepnote-cell&projectId=b709322b-0919-4011-8ac3-caa5502e64ba' target=\"_blank\">\n",
    "<img alt='Created in deepnote.com' style='display:inline;max-height:16px;margin:0px;margin-right:7.5px;' src='data:image/svg+xml;base64,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' > </img>\n",
    "Created in <span style='font-weight:600;margin-left:4px;'>Deepnote</span></a>"
   ]
  }
 ],
 "metadata": {
  "deepnote": {
   "is_reactive": false
  },
  "deepnote_execution_queue": [],
  "deepnote_notebook_id": "1f266b93-543a-4715-863c-784ea6a7d70a",
  "kernelspec": {
   "display_name": "Python 3",
   "language": "python",
   "name": "python3"
  },
  "language_info": {
   "codemirror_mode": {
    "name": "ipython",
    "version": 3
   },
   "file_extension": ".py",
   "mimetype": "text/x-python",
   "name": "python",
   "nbconvert_exporter": "python",
   "pygments_lexer": "ipython3",
   "version": "3.8.5"
  }
 },
 "nbformat": 4,
 "nbformat_minor": 2
}
