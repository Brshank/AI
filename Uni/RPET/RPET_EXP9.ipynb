{
 "cells": [
  {
   "cell_type": "markdown",
   "source": [
    "# Confidence Tests\r\n",
    "## Name: Brshank Singh Negi\r\n",
    "## Roll No: I032\r\n",
    "## B.Tech AI\r\n",
    "# **EXPT 9**\r\n"
   ],
   "metadata": {}
  },
  {
   "cell_type": "markdown",
   "source": [
    "## TARGET: WAP for the CONFIDENCE levels and z -Tests\r\n",
    " \r\n",
    "\r\n",
    "# **AIM**\r\n",
    "## 1.Investigate point estimates by generating a population of random age data and then drawing a sample from it to estimate the mean\r\n",
    "## 2. Identify the Interval Estimates using confidence interval of 95% "
   ],
   "metadata": {}
  },
  {
   "cell_type": "markdown",
   "source": [
    "# **Application:** \r\n",
    "## To know the average age of registered voters in the U.S., take a survey of registered voters and then use the average age of the respondents as a point estimate of the average age of the population as a whole. \r\n",
    "# **Note:** \r\n",
    "## The average of a sample is known as the sample mean.The sample mean is usually not exactly the same as the population mean."
   ],
   "metadata": {}
  },
  {
   "cell_type": "code",
   "execution_count": 1,
   "source": [
    "%matplotlib inline "
   ],
   "outputs": [],
   "metadata": {}
  },
  {
   "cell_type": "code",
   "execution_count": 2,
   "source": [
    "import numpy as np\r\n",
    "import matplotlib.pyplot as plt\r\n",
    "import scipy.stats as stats\r\n",
    "import math\r\n",
    "import random\r\n",
    "import seaborn as sns"
   ],
   "outputs": [],
   "metadata": {}
  },
  {
   "cell_type": "code",
   "execution_count": 3,
   "source": [
    "np.random.seed(10)\r\n",
    "Population_ages1=stats.poisson.rvs(loc=18,mu=35,size=150000)\r\n",
    "Population_ages2=stats.poisson.rvs(loc=18,mu=10,size=100000)\r\n",
    "Population_ages=np.concatenate((Population_ages1, Population_ages2))"
   ],
   "outputs": [],
   "metadata": {}
  },
  {
   "cell_type": "code",
   "execution_count": 4,
   "source": [
    "print('mean of the Population_Ages::=')\r\n",
    "Population_ages.mean()"
   ],
   "outputs": [
    {
     "output_type": "stream",
     "name": "stdout",
     "text": [
      "mean of the Population_Ages::=\n"
     ]
    },
    {
     "output_type": "execute_result",
     "data": {
      "text/plain": [
       "43.002372"
      ]
     },
     "metadata": {},
     "execution_count": 4
    }
   ],
   "metadata": {}
  },
  {
   "cell_type": "code",
   "execution_count": 5,
   "source": [
    "ax=sns.distplot(Population_ages,bins=30,kde=False,color='purple',hist_kws={\"linewidth\":15,'alpha':1})\r\n",
    "ax.set(xlabel='Poisson disto',ylabel='Frequency')"
   ],
   "outputs": [
    {
     "output_type": "stream",
     "name": "stderr",
     "text": [
      "C:\\Users\\Negi\\AppData\\Roaming\\Python\\Python39\\site-packages\\seaborn\\distributions.py:2557: FutureWarning: `distplot` is a deprecated function and will be removed in a future version. Please adapt your code to use either `displot` (a figure-level function with similar flexibility) or `histplot` (an axes-level function for histograms).\n",
      "  warnings.warn(msg, FutureWarning)\n"
     ]
    },
    {
     "output_type": "execute_result",
     "data": {
      "text/plain": [
       "[Text(0.5, 0, 'Poisson disto'), Text(0, 0.5, 'Frequency')]"
      ]
     },
     "metadata": {},
     "execution_count": 5
    },
    {
     "output_type": "display_data",
     "data": {
      "image/png": "[encoded data removed]",
      "text/plain": [
       "<Figure size 432x288 with 1 Axes>"
      ]
     },
     "metadata": {
      "needs_background": "light"
     }
    }
   ],
   "metadata": {}
  },
  {
   "cell_type": "code",
   "execution_count": 6,
   "source": [
    "ax=sns.distplot(Population_ages1,bins=30,kde=False,color='blue',hist_kws={\"linewidth\":15,'alpha':1})\r\n",
    "ax.set(xlabel='Poisson disto',ylabel='Frequency')"
   ],
   "outputs": [
    {
     "output_type": "execute_result",
     "data": {
      "text/plain": [
       "[Text(0.5, 0, 'Poisson disto'), Text(0, 0.5, 'Frequency')]"
      ]
     },
     "metadata": {},
     "execution_count": 6
    },
    {
     "output_type": "display_data",
     "data": {
      "image/png": "[encoded data removed]",
      "text/plain": [
       "<Figure size 432x288 with 1 Axes>"
      ]
     },
     "metadata": {
      "needs_background": "light"
     }
    }
   ],
   "metadata": {}
  },
  {
   "cell_type": "code",
   "execution_count": 7,
   "source": [
    "Population_ages1.mean()"
   ],
   "outputs": [
    {
     "output_type": "execute_result",
     "data": {
      "text/plain": [
       "53.00546"
      ]
     },
     "metadata": {},
     "execution_count": 7
    }
   ],
   "metadata": {}
  },
  {
   "cell_type": "code",
   "execution_count": 8,
   "source": [
    "ax=sns.distplot(Population_ages2,bins=30,kde=False,color='red',hist_kws={\"linewidth\":15,'alpha':1})\r\n",
    "ax.set(xlabel='Poisson disto',ylabel='Frequency')"
   ],
   "outputs": [
    {
     "output_type": "execute_result",
     "data": {
      "text/plain": [
       "[Text(0.5, 0, 'Poisson disto'), Text(0, 0.5, 'Frequency')]"
      ]
     },
     "metadata": {},
     "execution_count": 8
    },
    {
     "output_type": "display_data",
     "data": {
      "image/png": "[encoded data removed]",
      "text/plain": [
       "<Figure size 432x288 with 1 Axes>"
      ]
     },
     "metadata": {
      "needs_background": "light"
     }
    }
   ],
   "metadata": {}
  },
  {
   "cell_type": "code",
   "execution_count": 9,
   "source": [
    "Population_ages2.mean()"
   ],
   "outputs": [
    {
     "output_type": "execute_result",
     "data": {
      "text/plain": [
       "27.99774"
      ]
     },
     "metadata": {},
     "execution_count": 9
    }
   ],
   "metadata": {}
  },
  {
   "cell_type": "code",
   "execution_count": 10,
   "source": [
    "np.random.seed(6)\r\n",
    "sample_ages=np.random.choice(a=Population_ages,size=500)    #Sample=500 Values\r\n",
    "\r\n",
    "print('Sample_ages Mean::=')\r\n",
    "print(sample_ages.mean())      # Sample Mean\r\n",
    "print('\\n')\r\n",
    "#checking Difference Between Means\r\n",
    "print('Checking Difference Between Means::=')\r\n",
    "Population_ages.mean() - sample_ages.mean()"
   ],
   "outputs": [
    {
     "output_type": "stream",
     "name": "stdout",
     "text": [
      "Sample_ages Mean::=\n",
      "42.388\n",
      "\n",
      "\n",
      "Checking Difference Between Means::=\n"
     ]
    },
    {
     "output_type": "execute_result",
     "data": {
      "text/plain": [
       "0.614372000000003"
      ]
     },
     "metadata": {},
     "execution_count": 10
    }
   ],
   "metadata": {}
  },
  {
   "cell_type": "markdown",
   "source": [
    "# Conclusion(>Task 1<)\r\n",
    "## Our point estimate based on a sample of 500 individuals underestimates the true population mean by 0.6 years, but it is close. \r\n",
    "## This illustrates an important point: we can get a fairly accurate estimate of a large population by sampling a relatively small subset of individuals."
   ],
   "metadata": {}
  },
  {
   "cell_type": "markdown",
   "source": [
    "# Estimating proportions of Races in Population:-"
   ],
   "metadata": {}
  },
  {
   "cell_type": "code",
   "execution_count": 11,
   "source": [
    "random.seed(10)\r\n",
    "Population_races =([\"White\"]*100000)+([\"Black\"]*50000)+\\\r\n",
    "                    ([\"Hispanic\"]*50000)+([\"Asian\"]*25000)+\\\r\n",
    "                        ([\"other\"]*25000)"
   ],
   "outputs": [],
   "metadata": {}
  },
  {
   "cell_type": "code",
   "execution_count": 12,
   "source": [
    "len(Population_races)"
   ],
   "outputs": [
    {
     "output_type": "execute_result",
     "data": {
      "text/plain": [
       "250000"
      ]
     },
     "metadata": {},
     "execution_count": 12
    }
   ],
   "metadata": {}
  },
  {
   "cell_type": "code",
   "execution_count": 13,
   "source": [
    "# Sample 1000 Values\r\n",
    "demo_sample =random.sample( Population_races,1000 )"
   ],
   "outputs": [],
   "metadata": {}
  },
  {
   "cell_type": "code",
   "execution_count": 14,
   "source": [
    "len(demo_sample)"
   ],
   "outputs": [
    {
     "output_type": "execute_result",
     "data": {
      "text/plain": [
       "1000"
      ]
     },
     "metadata": {},
     "execution_count": 14
    }
   ],
   "metadata": {}
  },
  {
   "cell_type": "code",
   "execution_count": 15,
   "source": [
    "for race in set(demo_sample):\r\n",
    "  print(race + \" proportion estimate: \")\r\n",
    "  print(demo_sample.count(race)/1000)"
   ],
   "outputs": [
    {
     "output_type": "stream",
     "name": "stdout",
     "text": [
      "Hispanic proportion estimate: \n",
      "0.192\n",
      "other proportion estimate: \n",
      "0.099\n",
      "White proportion estimate: \n",
      "0.379\n",
      "Black proportion estimate: \n",
      "0.231\n",
      "Asian proportion estimate: \n",
      "0.099\n"
     ]
    }
   ],
   "metadata": {}
  },
  {
   "cell_type": "markdown",
   "source": [
    "# Interval Estimate / Confidence Interval :-"
   ],
   "metadata": {}
  },
  {
   "cell_type": "markdown",
   "source": [
    "### A point estimate can give you a rough idea of a population parameter like the mean, but estimates are prone to error and taking multiple samples to get improved estimates may not be feasible.\r\n",
    "\r\n",
    "### A confidence interval is a range of values above and below a point estimate that captures the true population parameter at some predetermined confidence level.\r\n",
    "\r\n",
    "### For example, if you want to have a 95% chance of capturing the true population parameter with a point estimate and a corresponding confidence interval, you'd set your confidence level to 95%. Higher confidence levels result in a wider confidence intervals.\r\n",
    "\r\n",
    "### Let's calculate a 95% confidence for our mean point estimate"
   ],
   "metadata": {}
  },
  {
   "cell_type": "code",
   "execution_count": 16,
   "source": [
    "np.random.seed(10)\r\n",
    "\r\n",
    "sample_size =1000\r\n",
    "sample = np.random.choice(a = Population_ages, size = sample_size)\r\n",
    "sample_mean = sample.mean()\r\n",
    "\r\n",
    "z_critical = stats.norm.ppf(q = 0.975)\r\n",
    "\r\n",
    "print(\"z-critical value: \")\r\n",
    "print(z_critical)\r\n",
    "\r\n",
    "pop_stdev = Population_ages.std()\r\n",
    "\r\n",
    "margin_of_error = z_critical * (pop_stdev/math.sqrt(sample_size))\r\n",
    "\r\n",
    "confidence_interval = (sample_mean - margin_of_error,\r\n",
    "                       sample_mean + margin_of_error)\r\n",
    "\r\n",
    "\r\n",
    "print(\"Confidence Interval: \")\r\n",
    "print(confidence_interval)"
   ],
   "outputs": [
    {
     "output_type": "stream",
     "name": "stdout",
     "text": [
      "z-critical value: \n",
      "1.959963984540054\n",
      "Confidence Interval: \n",
      "(41.70306406882683, 43.34293593117317)\n"
     ]
    }
   ],
   "metadata": {}
  },
  {
   "cell_type": "markdown",
   "source": [
    "### Let's create several confidence intervals and plot them to get a better sense of what it means to \"capture\" the true means:-\r\n"
   ],
   "metadata": {}
  },
  {
   "cell_type": "code",
   "execution_count": 17,
   "source": [
    "np.random.seed(12)\r\n",
    "\r\n",
    "intervals=[]\r\n",
    "sample_means=[]\r\n",
    "\r\n",
    "for sample in range(25):\r\n",
    "  sample=np.random.choice(a=Population_ages,size=sample_size)\r\n",
    "  sample_mean=sample.mean()\r\n",
    "  sample_means.append(sample_mean)\r\n",
    "\r\n",
    "  z_critical=stats.norm.ppf(q = 0.975)\r\n",
    "\r\n",
    "  pop_stdev=Population_ages.std()\r\n",
    "\r\n",
    "  margin_of_error = z_critical * (pop_stdev/math.sqrt(sample_size))\r\n",
    "\r\n",
    "  confidence_interval = (sample_mean - margin_of_error, sample_mean + margin_of_error)\r\n",
    "\r\n",
    "  intervals.append(confidence_interval)"
   ],
   "outputs": [],
   "metadata": {}
  },
  {
   "cell_type": "code",
   "execution_count": 18,
   "source": [
    "plt.figure(figsize=(9,9))\r\n",
    "\r\n",
    "plt.errorbar(x=np.arange(0.1,25,1),\r\n",
    "             y=sample_means,\r\n",
    "             yerr=[(top-bot)/2 for top,bot in intervals],\r\n",
    "             fmt='o')\r\n",
    "\r\n",
    "plt.hlines(xmin=0,xmax=25,y=43.0023,linewidth=2.0,color=\"hotpink\")"
   ],
   "outputs": [
    {
     "output_type": "execute_result",
     "data": {
      "text/plain": [
       "<matplotlib.collections.LineCollection at 0x18ac01a04f0>"
      ]
     },
     "metadata": {},
     "execution_count": 18
    },
    {
     "output_type": "display_data",
     "data": {
      "image/png": "[encoded data removed]",
      "text/plain": [
       "<Figure size 648x648 with 1 Axes>"
      ]
     },
     "metadata": {
      "needs_background": "light"
     }
    }
   ],
   "metadata": {}
  },
  {
   "cell_type": "markdown",
   "source": [
    "# Conclusion\r\n",
    "## By this we learnt in theis practical to analyse the mean of a Random Practical Range in a Population Range & used the data for analysis of mean.\r\n",
    "## We calculated the interval mean of the data at 95%confidence which shows us the point estimates."
   ],
   "metadata": {}
  }
 ],
 "metadata": {
  "orig_nbformat": 4,
  "language_info": {
   "name": "python",
   "version": "3.9.2",
   "mimetype": "text/x-python",
   "codemirror_mode": {
    "name": "ipython",
    "version": 3
   },
   "pygments_lexer": "ipython3",
   "nbconvert_exporter": "python",
   "file_extension": ".py"
  },
  "kernelspec": {
   "name": "python3",
   "display_name": "Python 3.9.2 64-bit"
  },
  "interpreter": {
   "hash": "63fd5069d213b44bf678585dea6b12cceca9941eaf7f819626cde1f2670de90d"
  }
 },
 "nbformat": 4,
 "nbformat_minor": 2
}