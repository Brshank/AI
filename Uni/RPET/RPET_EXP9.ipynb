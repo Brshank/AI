{
 "cells": [
  {
   "cell_type": "markdown",
   "source": [
    "# Confidence Tests\n",
    "## Name: Brshank Singh Negi\n",
    "## Roll No: I032\n",
    "## B.Tech AI\n",
    "# **EXPT 9**"
   ],
   "metadata": {}
  },
  {
   "cell_type": "markdown",
   "source": [
    "## TARGET: WAP for the CONFIDENCE levels and z -Tests\n",
    " \n",
    "\n",
    "# **AIM**\n",
    "## 1.Investigate point estimates by generating a population of random age data and then drawing a sample from it to estimate the mean\n",
    "## 2. Identify the Interval Estimates using confidence interval of 95% "
   ],
   "metadata": {}
  },
  {
   "cell_type": "markdown",
   "source": [
    "# **Application:** \n",
    "## To know the average age of registered voters in the U.S., take a survey of registered voters and then use the average age of the respondents as a point estimate of the average age of the population as a whole. \n",
    "# **Note:** \n",
    "## The average of a sample is known as the sample mean.The sample mean is usually not exactly the same as the population mean."
   ],
   "metadata": {}
  },
  {
   "cell_type": "code",
   "execution_count": 1,
   "source": [
    "%matplotlib inline "
   ],
   "outputs": [],
   "metadata": {}
  },
  {
   "cell_type": "code",
   "execution_count": 2,
   "source": [
    "import numpy as np\n",
    "import matplotlib.pyplot as plt\n",
    "import scipy.stats as stats\n",
    "import math\n",
    "import random\n",
    "import seaborn as sns\n",
    "warnings.filterwarnings('ignore')"
   ],
   "outputs": [
    {
     "output_type": "error",
     "ename": "NameError",
     "evalue": "name 'warnings' is not defined",
     "traceback": [
      "\u001b[1;31m---------------------------------------------------------------------------\u001b[0m",
      "\u001b[1;31mNameError\u001b[0m                                 Traceback (most recent call last)",
      "\u001b[1;32m<ipython-input-2-633bf2f67c81>\u001b[0m in \u001b[0;36m<module>\u001b[1;34m\u001b[0m\n\u001b[0;32m      5\u001b[0m \u001b[1;32mimport\u001b[0m \u001b[0mrandom\u001b[0m\u001b[1;33m\u001b[0m\u001b[1;33m\u001b[0m\u001b[0m\n\u001b[0;32m      6\u001b[0m \u001b[1;32mimport\u001b[0m \u001b[0mseaborn\u001b[0m \u001b[1;32mas\u001b[0m \u001b[0msns\u001b[0m\u001b[1;33m\u001b[0m\u001b[1;33m\u001b[0m\u001b[0m\n\u001b[1;32m----> 7\u001b[1;33m \u001b[0mwarnings\u001b[0m\u001b[1;33m.\u001b[0m\u001b[0mfilterwarnings\u001b[0m\u001b[1;33m(\u001b[0m\u001b[1;34m'ignore'\u001b[0m\u001b[1;33m)\u001b[0m\u001b[1;33m\u001b[0m\u001b[1;33m\u001b[0m\u001b[0m\n\u001b[0m",
      "\u001b[1;31mNameError\u001b[0m: name 'warnings' is not defined"
     ]
    }
   ],
   "metadata": {}
  },
  {
   "cell_type": "code",
   "execution_count": null,
   "source": [
    "np.random.seed(10)\n",
    "Population_ages1=stats.poisson.rvs(loc=18,mu=35,size=150000)\n",
    "Population_ages2=stats.poisson.rvs(loc=18,mu=10,size=100000)\n",
    "Population_ages=np.concatenate((Population_ages1, Population_ages2))"
   ],
   "outputs": [],
   "metadata": {}
  },
  {
   "cell_type": "code",
   "execution_count": null,
   "source": [
    "print('mean of the Population_Ages::=')\n",
    "Population_ages.mean()"
   ],
   "outputs": [],
   "metadata": {}
  },
  {
   "cell_type": "code",
   "execution_count": null,
   "source": [
    "ax=sns.distplot(Population_ages,bins=30,kde=False,color='purple',hist_kws={\"linewidth\":15,'alpha':1})\n",
    "ax.set(xlabel='Poisson disto',ylabel='Frequency')"
   ],
   "outputs": [],
   "metadata": {}
  },
  {
   "cell_type": "code",
   "execution_count": null,
   "source": [
    "ax=sns.distplot(Population_ages1,bins=30,kde=False,color='blue',hist_kws={\"linewidth\":15,'alpha':1})\n",
    "ax.set(xlabel='Poisson disto',ylabel='Frequency')"
   ],
   "outputs": [],
   "metadata": {}
  },
  {
   "cell_type": "code",
   "execution_count": null,
   "source": [
    "Population_ages1.mean()"
   ],
   "outputs": [],
   "metadata": {}
  },
  {
   "cell_type": "code",
   "execution_count": null,
   "source": [
    "ax=sns.distplot(Population_ages2,bins=30,kde=False,color='red',hist_kws={\"linewidth\":15,'alpha':1})\n",
    "ax.set(xlabel='Poisson disto',ylabel='Frequency')"
   ],
   "outputs": [],
   "metadata": {}
  },
  {
   "cell_type": "code",
   "execution_count": null,
   "source": [
    "Population_ages2.mean()"
   ],
   "outputs": [],
   "metadata": {}
  },
  {
   "cell_type": "code",
   "execution_count": null,
   "source": [
    "np.random.seed(6)\n",
    "sample_ages=np.random.choice(a=Population_ages,size=500)    #Sample=500 Values\n",
    "\n",
    "print('Sample_ages Mean::=')\n",
    "print(sample_ages.mean())      # Sample Mean\n",
    "print('\\n')\n",
    "#checking Difference Between Means\n",
    "print('Checking Difference Between Means::=')\n",
    "Population_ages.mean() - sample_ages.mean()"
   ],
   "outputs": [],
   "metadata": {}
  },
  {
   "cell_type": "markdown",
   "source": [
    "# Conclusion(>Task 1<)\n",
    "## Our point estimate based on a sample of 500 individuals underestimates the true population mean by 0.6 years, but it is close. \n",
    "## This illustrates an important point: we can get a fairly accurate estimate of a large population by sampling a relatively small subset of individuals."
   ],
   "metadata": {}
  },
  {
   "cell_type": "markdown",
   "source": [
    "# Estimating proportions of Races in Population:-"
   ],
   "metadata": {}
  },
  {
   "cell_type": "code",
   "execution_count": null,
   "source": [
    "random.seed(10)\n",
    "Population_races =([\"White\"]*100000)+([\"Black\"]*50000)+\\\n",
    "                    ([\"Hispanic\"]*50000)+([\"Asian\"]*25000)+\\\n",
    "                        ([\"other\"]*25000)"
   ],
   "outputs": [],
   "metadata": {}
  },
  {
   "cell_type": "code",
   "execution_count": null,
   "source": [
    "len(Population_races)"
   ],
   "outputs": [],
   "metadata": {}
  },
  {
   "cell_type": "code",
   "execution_count": null,
   "source": [
    "# Sample 1000 Values\n",
    "demo_sample =random.sample( Population_races,1000 )"
   ],
   "outputs": [],
   "metadata": {}
  },
  {
   "cell_type": "code",
   "execution_count": null,
   "source": [
    "len(demo_sample)"
   ],
   "outputs": [],
   "metadata": {}
  },
  {
   "cell_type": "code",
   "execution_count": null,
   "source": [
    "for race in set(demo_sample):\n",
    "  print(race + \" proportion estimate: \")\n",
    "  print(demo_sample.count(race)/1000)"
   ],
   "outputs": [],
   "metadata": {}
  },
  {
   "cell_type": "markdown",
   "source": [
    "# Interval Estimate / Confidence Interval :-"
   ],
   "metadata": {}
  },
  {
   "cell_type": "markdown",
   "source": [
    "### A point estimate can give you a rough idea of a population parameter like the mean, but estimates are prone to error and taking multiple samples to get improved estimates may not be feasible.\n",
    "\n",
    "### A confidence interval is a range of values above and below a point estimate that captures the true population parameter at some predetermined confidence level.\n",
    "\n",
    "### For example, if you want to have a 95% chance of capturing the true population parameter with a point estimate and a corresponding confidence interval, you'd set your confidence level to 95%. Higher confidence levels result in a wider confidence intervals.\n",
    "\n",
    "### Let's calculate a 95% confidence for our mean point estimate"
   ],
   "metadata": {}
  },
  {
   "cell_type": "code",
   "execution_count": null,
   "source": [
    "np.random.seed(10)\n",
    "\n",
    "sample_size =1000\n",
    "sample = np.random.choice(a = Population_ages, size = sample_size)\n",
    "sample_mean = sample.mean()\n",
    "\n",
    "z_critical = stats.norm.ppf(q = 0.975)\n",
    "\n",
    "print(\"z-critical value: \")\n",
    "print(z_critical)\n",
    "\n",
    "pop_stdev = Population_ages.std()\n",
    "\n",
    "margin_of_error = z_critical * (pop_stdev/math.sqrt(sample_size))\n",
    "\n",
    "confidence_interval = (sample_mean - margin_of_error,\n",
    "                       sample_mean + margin_of_error)\n",
    "\n",
    "\n",
    "print(\"Confidence Interval: \")\n",
    "print(confidence_interval)"
   ],
   "outputs": [],
   "metadata": {}
  },
  {
   "cell_type": "markdown",
   "source": [
    "### Let's create several confidence intervals and plot them to get a better sense of what it means to \"capture\" the true means:-\n"
   ],
   "metadata": {}
  },
  {
   "cell_type": "code",
   "execution_count": null,
   "source": [
    "np.random.seed(12)\n",
    "\n",
    "intervals=[]\n",
    "sample_means=[]\n",
    "\n",
    "for sample in range(25):\n",
    "  sample=np.random.choice(a=Population_ages,size=sample_size)\n",
    "  sample_mean=sample.mean()\n",
    "  sample_means.append(sample_mean)\n",
    "\n",
    "  z_critical=stats.norm.ppf(q = 0.975)\n",
    "\n",
    "  pop_stdev=Population_ages.std()\n",
    "\n",
    "  margin_of_error = z_critical * (pop_stdev/math.sqrt(sample_size))\n",
    "\n",
    "  confidence_interval = (sample_mean - margin_of_error, sample_mean + margin_of_error)\n",
    "\n",
    "  intervals.append(confidence_interval)"
   ],
   "outputs": [],
   "metadata": {}
  },
  {
   "cell_type": "code",
   "execution_count": null,
   "source": [
    "plt.figure(figsize=(9,9))\n",
    "\n",
    "plt.errorbar(x=np.arange(0.1,25,1),\n",
    "             y=sample_means,\n",
    "             yerr=[(top-bot)/2 for top,bot in intervals],\n",
    "             fmt='o')\n",
    "\n",
    "plt.hlines(xmin=0,xmax=25,y=43.0023,linewidth=2.0,color=\"hotpink\")"
   ],
   "outputs": [],
   "metadata": {}
  },
  {
   "cell_type": "markdown",
   "source": [
    "# Conclusion\n",
    "## By this we learnt in theis practical to analyse the mean of a Random Practical Range in a Population Range & used the data for analysis of mean.\n",
    "## We calculated the interval mean of the data at 95%confidence which shows us the point estimates."
   ],
   "metadata": {}
  }
 ],
 "metadata": {
  "interpreter": {
   "hash": "63fd5069d213b44bf678585dea6b12cceca9941eaf7f819626cde1f2670de90d"
  },
  "kernelspec": {
   "name": "python3",
   "display_name": "Python 3.9.2 64-bit"
  },
  "language_info": {
   "codemirror_mode": {
    "name": "ipython",
    "version": 3
   },
   "file_extension": ".py",
   "mimetype": "text/x-python",
   "name": "python",
   "nbconvert_exporter": "python",
   "pygments_lexer": "ipython3",
   "version": "3.9.2"
  }
 },
 "nbformat": 4,
 "nbformat_minor": 2
}