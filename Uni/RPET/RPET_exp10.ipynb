{
 "cells": [
  {
   "cell_type": "markdown",
   "source": [
    "# Hypothesis Tests\n",
    "## Name: Brshank Singh Negi\n",
    "## Roll No: I032\n",
    "## B.Tech AI\n",
    "# **EXPT 10**"
   ],
   "metadata": {}
  },
  {
   "cell_type": "markdown",
   "source": [
    "AIM:\n",
    "1. Outlier Detection using Z-score / Z-test\n",
    "2. Use T-test for testing/comparing the means of two samples if they belong to the same population"
   ],
   "metadata": {}
  },
  {
   "cell_type": "code",
   "execution_count": 26,
   "source": [
    "import numpy as np\n",
    "import pandas as pd\n",
    "import matplotlib.pyplot as plt\n",
    "import scipy.stats as stats\n",
    "import math\n",
    "import random\n",
    "import seaborn as sns\n",
    "# warnings.filterwarnings('ignore')"
   ],
   "outputs": [],
   "metadata": {}
  },
  {
   "cell_type": "code",
   "execution_count": 2,
   "source": [
    "mu,sigma=30,5\n",
    "s=np.random.normal(mu,sigma,100)\n",
    "print(s)\n"
   ],
   "outputs": [
    {
     "output_type": "stream",
     "name": "stdout",
     "text": [
      "[30.42032727 26.03872338 27.20613818 27.44613742 27.38335145 34.00316364\n",
      " 32.59179506 33.88525762 35.07131616 25.34958319 35.58142526 45.54273783\n",
      " 29.7413313  27.56828247 33.1936292  23.14339084 34.27033154 32.2119397\n",
      " 26.86063655 18.38906572 35.61965004 37.53211203 27.4350012  18.66811283\n",
      " 29.9036721  29.03163484 27.10909821 27.05872888 35.51473969 29.4928638\n",
      " 24.78260539 41.24501894 28.50280736 27.80651268 34.47672838 22.63638629\n",
      " 26.97204476 31.53486761 29.29597793 28.78827638 29.72911569 27.57998451\n",
      " 21.58766262 28.97361603 32.88198895 32.08300756 23.78756656 36.61689847\n",
      " 24.35210794 26.30952439 23.95880811 30.37804594 28.2514248  26.39791819\n",
      " 30.67677931 25.28693566 27.8275355  32.45366459 27.420808   28.92178025\n",
      " 30.75334012 33.78653953 28.29989612 29.02437283 29.25394362 28.21078962\n",
      " 27.44564481 28.00508528 29.57490795 36.52933399 26.46945954 29.67713042\n",
      " 32.81606854 30.56190218 33.39335899 32.4402266  35.82950618 28.90781347\n",
      " 29.6836039  31.49887861 32.44612603 31.44011341 29.6655072  32.63129408\n",
      " 33.73840153 25.4771455  25.47382583 30.80672484 32.70475049 24.22693494\n",
      " 36.76915838 31.78835601 39.23509579 32.62164025 28.72708725 21.58668472\n",
      " 27.55355905 25.02337578 31.31691963 25.93142997]\n"
     ]
    }
   ],
   "metadata": {}
  },
  {
   "cell_type": "code",
   "execution_count": 3,
   "source": [
    "plt.hist(s)"
   ],
   "outputs": [
    {
     "output_type": "execute_result",
     "data": {
      "text/plain": [
       "(array([ 2.,  5., 14., 27., 21., 19.,  8.,  2.,  1.,  1.]),\n",
       " array([18.38906572, 21.10443293, 23.81980014, 26.53516735, 29.25053457,\n",
       "        31.96590178, 34.68126899, 37.3966362 , 40.11200341, 42.82737062,\n",
       "        45.54273783]),\n",
       " <BarContainer object of 10 artists>)"
      ]
     },
     "metadata": {},
     "execution_count": 3
    },
    {
     "output_type": "display_data",
     "data": {
      "image/png": "[encoded data removed]",
      "text/plain": [
       "<Figure size 432x288 with 1 Axes>"
      ]
     },
     "metadata": {
      "needs_background": "light"
     }
    }
   ],
   "metadata": {}
  },
  {
   "cell_type": "code",
   "execution_count": 4,
   "source": [
    "s[85]=120\n",
    "s[15]=10"
   ],
   "outputs": [],
   "metadata": {}
  },
  {
   "cell_type": "code",
   "execution_count": 5,
   "source": [
    "np.max(s)"
   ],
   "outputs": [
    {
     "output_type": "execute_result",
     "data": {
      "text/plain": [
       "120.0"
      ]
     },
     "metadata": {},
     "execution_count": 5
    }
   ],
   "metadata": {}
  },
  {
   "cell_type": "code",
   "execution_count": 6,
   "source": [
    "np.min(s)"
   ],
   "outputs": [
    {
     "output_type": "execute_result",
     "data": {
      "text/plain": [
       "10.0"
      ]
     },
     "metadata": {},
     "execution_count": 6
    }
   ],
   "metadata": {}
  },
  {
   "cell_type": "code",
   "execution_count": 7,
   "source": [
    "df=pd.DataFrame(s,columns=['Data'])"
   ],
   "outputs": [],
   "metadata": {}
  },
  {
   "cell_type": "code",
   "execution_count": 8,
   "source": [
    "df"
   ],
   "outputs": [
    {
     "output_type": "execute_result",
     "data": {
      "text/html": [
       "<div>\n",
       "<style scoped>\n",
       "    .dataframe tbody tr th:only-of-type {\n",
       "        vertical-align: middle;\n",
       "    }\n",
       "\n",
       "    .dataframe tbody tr th {\n",
       "        vertical-align: top;\n",
       "    }\n",
       "\n",
       "    .dataframe thead th {\n",
       "        text-align: right;\n",
       "    }\n",
       "</style>\n",
       "<table border=\"1\" class=\"dataframe\">\n",
       "  <thead>\n",
       "    <tr style=\"text-align: right;\">\n",
       "      <th></th>\n",
       "      <th>Data</th>\n",
       "    </tr>\n",
       "  </thead>\n",
       "  <tbody>\n",
       "    <tr>\n",
       "      <th>0</th>\n",
       "      <td>30.420327</td>\n",
       "    </tr>\n",
       "    <tr>\n",
       "      <th>1</th>\n",
       "      <td>26.038723</td>\n",
       "    </tr>\n",
       "    <tr>\n",
       "      <th>2</th>\n",
       "      <td>27.206138</td>\n",
       "    </tr>\n",
       "    <tr>\n",
       "      <th>3</th>\n",
       "      <td>27.446137</td>\n",
       "    </tr>\n",
       "    <tr>\n",
       "      <th>4</th>\n",
       "      <td>27.383351</td>\n",
       "    </tr>\n",
       "    <tr>\n",
       "      <th>...</th>\n",
       "      <td>...</td>\n",
       "    </tr>\n",
       "    <tr>\n",
       "      <th>95</th>\n",
       "      <td>21.586685</td>\n",
       "    </tr>\n",
       "    <tr>\n",
       "      <th>96</th>\n",
       "      <td>27.553559</td>\n",
       "    </tr>\n",
       "    <tr>\n",
       "      <th>97</th>\n",
       "      <td>25.023376</td>\n",
       "    </tr>\n",
       "    <tr>\n",
       "      <th>98</th>\n",
       "      <td>31.316920</td>\n",
       "    </tr>\n",
       "    <tr>\n",
       "      <th>99</th>\n",
       "      <td>25.931430</td>\n",
       "    </tr>\n",
       "  </tbody>\n",
       "</table>\n",
       "<p>100 rows × 1 columns</p>\n",
       "</div>"
      ],
      "text/plain": [
       "         Data\n",
       "0   30.420327\n",
       "1   26.038723\n",
       "2   27.206138\n",
       "3   27.446137\n",
       "4   27.383351\n",
       "..        ...\n",
       "95  21.586685\n",
       "96  27.553559\n",
       "97  25.023376\n",
       "98  31.316920\n",
       "99  25.931430\n",
       "\n",
       "[100 rows x 1 columns]"
      ]
     },
     "metadata": {},
     "execution_count": 8
    }
   ],
   "metadata": {}
  },
  {
   "cell_type": "code",
   "execution_count": 9,
   "source": [
    "for col in df.columns:\n",
    "    col_zscore=col+'_zscore'\n",
    "    df[col_zscore]=(df[col]-df[col].mean())/df[col].std(ddof=0)"
   ],
   "outputs": [],
   "metadata": {}
  },
  {
   "cell_type": "code",
   "execution_count": 10,
   "source": [
    "df['Data_zscore']=(df['Data']-df['Data'].mean())/df[col].std(ddof=0)"
   ],
   "outputs": [],
   "metadata": {}
  },
  {
   "cell_type": "code",
   "execution_count": 11,
   "source": [
    "df['outlier']=(abs(df['Data_zscore']) >1.95 ).astype(int)"
   ],
   "outputs": [],
   "metadata": {}
  },
  {
   "cell_type": "code",
   "execution_count": 12,
   "source": [
    "df.loc[df.outlier==1]"
   ],
   "outputs": [
    {
     "output_type": "execute_result",
     "data": {
      "text/html": [
       "<div>\n",
       "<style scoped>\n",
       "    .dataframe tbody tr th:only-of-type {\n",
       "        vertical-align: middle;\n",
       "    }\n",
       "\n",
       "    .dataframe tbody tr th {\n",
       "        vertical-align: top;\n",
       "    }\n",
       "\n",
       "    .dataframe thead th {\n",
       "        text-align: right;\n",
       "    }\n",
       "</style>\n",
       "<table border=\"1\" class=\"dataframe\">\n",
       "  <thead>\n",
       "    <tr style=\"text-align: right;\">\n",
       "      <th></th>\n",
       "      <th>Data</th>\n",
       "      <th>Data_zscore</th>\n",
       "      <th>outlier</th>\n",
       "    </tr>\n",
       "  </thead>\n",
       "  <tbody>\n",
       "    <tr>\n",
       "      <th>15</th>\n",
       "      <td>10.0</td>\n",
       "      <td>-2.019125</td>\n",
       "      <td>1</td>\n",
       "    </tr>\n",
       "    <tr>\n",
       "      <th>85</th>\n",
       "      <td>120.0</td>\n",
       "      <td>8.775786</td>\n",
       "      <td>1</td>\n",
       "    </tr>\n",
       "  </tbody>\n",
       "</table>\n",
       "</div>"
      ],
      "text/plain": [
       "     Data  Data_zscore  outlier\n",
       "15   10.0    -2.019125        1\n",
       "85  120.0     8.775786        1"
      ]
     },
     "metadata": {},
     "execution_count": 12
    }
   ],
   "metadata": {}
  },
  {
   "cell_type": "code",
   "execution_count": 13,
   "source": [
    "x=int(input('Enter weight of 10 yr old='))"
   ],
   "outputs": [
    {
     "output_type": "stream",
     "name": "stdout",
     "text": [
      "Enter weight of 10 yr old=15\n"
     ]
    }
   ],
   "metadata": {}
  },
  {
   "cell_type": "code",
   "execution_count": 14,
   "source": [
    "meann=df['Data'].mean()\n",
    "meann"
   ],
   "outputs": [
    {
     "output_type": "execute_result",
     "data": {
      "text/plain": [
       "30.574859728556913"
      ]
     },
     "metadata": {},
     "execution_count": 14
    }
   ],
   "metadata": {}
  },
  {
   "cell_type": "code",
   "execution_count": 15,
   "source": [
    "stdd=df[col].std(ddof=0)\n",
    "stdd"
   ],
   "outputs": [
    {
     "output_type": "execute_result",
     "data": {
      "text/plain": [
       "10.189986860654875"
      ]
     },
     "metadata": {},
     "execution_count": 15
    }
   ],
   "metadata": {}
  },
  {
   "cell_type": "code",
   "execution_count": 16,
   "source": [
    "abs((x-meann)/stdd)"
   ],
   "outputs": [
    {
     "output_type": "execute_result",
     "data": {
      "text/plain": [
       "1.5284474790339397"
      ]
     },
     "metadata": {},
     "execution_count": 16
    }
   ],
   "metadata": {}
  },
  {
   "cell_type": "code",
   "execution_count": 17,
   "source": [
    "if (abs((x-meann)/stdd) >1.95):\n",
    "    print('this is an Outlier for X=',x,)\n",
    "else:\n",
    "    print('Reject H0:',x,' is not an Outlier')"
   ],
   "outputs": [
    {
     "output_type": "stream",
     "name": "stdout",
     "text": [
      "Reject H0: 15  is not an Outlier\n"
     ]
    }
   ],
   "metadata": {}
  },
  {
   "cell_type": "markdown",
   "source": [
    "# 3 Use T-test for testing comparing the meansa of two samples if t they belong to the same population\n"
   ],
   "metadata": {}
  },
  {
   "cell_type": "markdown",
   "source": [
    "## H0= Same Distro\n",
    "## H1= Different Distro\n"
   ],
   "metadata": {}
  },
  {
   "cell_type": "code",
   "execution_count": 18,
   "source": [
    "np.random.seed(8)"
   ],
   "outputs": [],
   "metadata": {}
  },
  {
   "cell_type": "code",
   "execution_count": 19,
   "source": [
    "s1_sales=np.random.randint(1500,3000,100)\n",
    "s1_sales"
   ],
   "outputs": [
    {
     "output_type": "execute_result",
     "data": {
      "text/plain": [
       "array([1951, 2864, 1861, 1633, 2486, 1636, 2351, 2884, 1548, 2609, 2328,\n",
       "       1615, 1958, 2167, 2120, 1769, 2585, 1643, 2873, 2878, 2839, 1770,\n",
       "       2626, 1849, 1940, 2277, 2063, 2464, 2449, 2327, 1670, 1910, 1822,\n",
       "       2533, 2905, 1994, 2605, 1847, 1991, 2075, 2098, 2555, 2544, 2185,\n",
       "       2033, 2212, 2488, 1528, 2235, 2059, 2918, 2441, 2526, 1922, 1699,\n",
       "       2647, 2900, 2741, 2464, 2817, 2887, 1950, 2990, 2834, 1923, 2134,\n",
       "       2570, 1851, 2684, 2341, 2494, 1507, 2906, 2917, 2242, 1926, 1519,\n",
       "       2327, 1804, 2028, 1612, 1706, 1618, 2261, 2451, 2256, 1605, 2288,\n",
       "       2772, 1598, 2739, 2750, 1506, 2267, 2936, 2334, 2159, 1983, 2599,\n",
       "       2791])"
      ]
     },
     "metadata": {},
     "execution_count": 19
    }
   ],
   "metadata": {}
  },
  {
   "cell_type": "code",
   "execution_count": 20,
   "source": [
    "s2_sales=np.random.randint(500,1500,50)\n",
    "s2_sales"
   ],
   "outputs": [
    {
     "output_type": "execute_result",
     "data": {
      "text/plain": [
       "array([ 674,  720,  956, 1451,  973, 1410, 1179, 1411,  647, 1070, 1372,\n",
       "       1380,  881,  875,  880, 1055, 1027,  528, 1111, 1428,  669,  644,\n",
       "       1086,  661,  993, 1462,  954, 1202, 1019, 1351, 1276,  918, 1309,\n",
       "       1441,  650, 1216,  976,  841, 1061,  919, 1169, 1297, 1248,  692,\n",
       "       1060, 1200,  684, 1466,  923,  780])"
      ]
     },
     "metadata": {},
     "execution_count": 20
    }
   ],
   "metadata": {}
  },
  {
   "cell_type": "code",
   "execution_count": 21,
   "source": [
    "ax=sns.distplot(s1_sales)\n",
    "ax.set(xlabel='sales prices ',ylabel='probability value',title='prob. distribution')\n",
    "ax=sns.distplot(s2_sales)\n",
    "ax.set(xlabel='sales prices  ',ylabel='probability value',title='prob. distribution')"
   ],
   "outputs": [
    {
     "output_type": "stream",
     "name": "stderr",
     "text": [
      "/home/brshank/.local/lib/python3.8/site-packages/seaborn/distributions.py:2619: FutureWarning: `distplot` is a deprecated function and will be removed in a future version. Please adapt your code to use either `displot` (a figure-level function with similar flexibility) or `histplot` (an axes-level function for histograms).\n",
      "  warnings.warn(msg, FutureWarning)\n",
      "/home/brshank/.local/lib/python3.8/site-packages/seaborn/distributions.py:2619: FutureWarning: `distplot` is a deprecated function and will be removed in a future version. Please adapt your code to use either `displot` (a figure-level function with similar flexibility) or `histplot` (an axes-level function for histograms).\n",
      "  warnings.warn(msg, FutureWarning)\n"
     ]
    },
    {
     "output_type": "execute_result",
     "data": {
      "text/plain": [
       "[Text(0.5, 0, 'sales prices  '),\n",
       " Text(0, 0.5, 'probability value'),\n",
       " Text(0.5, 1.0, 'prob. distribution')]"
      ]
     },
     "metadata": {},
     "execution_count": 21
    },
    {
     "output_type": "display_data",
     "data": {
      "image/png": "[encoded data removed]",
      "text/plain": [
       "<Figure size 432x288 with 1 Axes>"
      ]
     },
     "metadata": {
      "needs_background": "light"
     }
    }
   ],
   "metadata": {}
  },
  {
   "cell_type": "code",
   "execution_count": 22,
   "source": [
    "from scipy.stats import ttest_ind\n",
    "#alpha = 1- confidence \n",
    "def compare_2_Sales(arr1,arr2,alpha,sample_size):\n",
    "    stats,p = ttest_ind(arr1,arr2)\n",
    "    if p>alpha:\n",
    "        print('H0:Accept for ', 100*(1-alpha),'\"%\" confidence == Same Distribution')\n",
    "    else:\n",
    "        print('H1: Reject for ', 100*(1-alpha),'\"%\" confidence == Different Distribution')"
   ],
   "outputs": [],
   "metadata": {}
  },
  {
   "cell_type": "code",
   "execution_count": 23,
   "source": [
    "sample_size=15\n",
    "s1_sample=np.random.choice(s1_sales,sample_size)\n",
    "s2_sample=np.random.choice(s2_sales,sample_size)"
   ],
   "outputs": [],
   "metadata": {}
  },
  {
   "cell_type": "code",
   "execution_count": 24,
   "source": [
    "perc_confidence=int(input('Enter Confidence %='))\n",
    "alpha=1-(perc_confidence/100)\n",
    "compare_2_Sales(s1_sample,s2_sample,alpha,sample_size)\n"
   ],
   "outputs": [
    {
     "output_type": "stream",
     "name": "stdout",
     "text": [
      "Enter Confidence %=95\n",
      "H1: Reject for  95.0 \"%\" confidence == Different Distribution\n"
     ]
    }
   ],
   "metadata": {}
  },
  {
   "cell_type": "markdown",
   "source": [
    "# Conclusion=\n",
    "### WE STUDIED ABOUT THE ZTESTS AND HYPOTHESIS TESTING \n",
    "## Took some Real Life examples and implemented the z test "
   ],
   "metadata": {}
  }
 ],
 "metadata": {
  "interpreter": {
   "hash": "916dbcbb3f70747c44a77c7bcd40155683ae19c65e1c03b4aa3499c5328201f1"
  },
  "kernelspec": {
   "name": "python3",
   "display_name": "Python 3.8.10 64-bit"
  },
  "language_info": {
   "codemirror_mode": {
    "name": "ipython",
    "version": 3
   },
   "file_extension": ".py",
   "mimetype": "text/x-python",
   "name": "python",
   "nbconvert_exporter": "python",
   "pygments_lexer": "ipython3",
   "version": "3.8.10"
  }
 },
 "nbformat": 4,
 "nbformat_minor": 2
}