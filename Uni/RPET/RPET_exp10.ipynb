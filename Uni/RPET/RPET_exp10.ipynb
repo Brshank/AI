{
 "cells": [
  {
   "cell_type": "markdown",
   "source": [
    "# Hypothesis Tests\n",
    "## Name: Brshank Singh Negi\n",
    "## Roll No: I032\n",
    "## B.Tech AI\n",
    "# **EXPT 10**"
   ],
   "metadata": {}
  },
  {
   "cell_type": "markdown",
   "source": [
    "AIM:\n",
    "1. Outlier Detection using Z-score / Z-test\n",
    "2. Use T-test for testing/comparing the means of two samples if they belong to the same population"
   ],
   "metadata": {}
  },
  {
   "cell_type": "code",
   "execution_count": 1,
   "source": [
    "import numpy as np\n",
    "import pandas as pd\n",
    "import matplotlib.pyplot as plt\n",
    "import scipy.stats as stats\n",
    "import math\n",
    "import random\n",
    "import seaborn as sns\n",
    "# warnings.filterwarnings('ignore')"
   ],
   "outputs": [],
   "metadata": {}
  },
  {
   "cell_type": "code",
   "execution_count": 2,
   "source": [
    "mu,sigma=30,5\n",
    "s=np.random.normal(mu,sigma,100)\n",
    "print(s)\n"
   ],
   "outputs": [
    {
     "output_type": "stream",
     "name": "stdout",
     "text": [
      "[19.52216053 18.74071132 34.96977479 23.70048121 31.02808081 12.00708751\n",
      " 30.16961486 29.27983701 25.48916092 31.7694782  31.51253109 39.37796844\n",
      " 42.1234913  24.86041247 33.65400688 27.87917337 27.68638801 28.9125908\n",
      " 37.63944667 30.28557326 30.86303999 23.11970604 24.99651992 25.08633677\n",
      " 33.14506516 27.58377307 25.81209775 31.91004162 23.15049581 26.35131056\n",
      " 26.97212157 27.90329534 24.46560318 30.34474328 23.99524498 29.38753861\n",
      " 37.23004576 29.3148425  34.20551678 36.36729533 34.16748318 34.92354119\n",
      " 29.33178189 26.50218257 25.16846381 35.12784788 32.63580827 28.03894963\n",
      " 30.84191426 25.50480848 27.46874669 28.92602505 31.14297253 37.32870644\n",
      " 40.33422357 27.28865895 36.88109857 25.40703373 28.85694455 27.39144048\n",
      " 36.96095888 27.74317307 33.45018523 36.56678281 32.14852591 34.67970161\n",
      " 32.92696005 31.21811427 30.14381982 23.77847153 34.18863484 28.96593302\n",
      " 39.43223059 34.7554007  42.79192931 26.48503621 29.47255834 23.32491532\n",
      " 28.49896913 29.10299542 28.6871461  31.24647201 19.71748469 24.25893747\n",
      " 30.02870391 34.07748653 35.93908822 29.91912673 18.3090362  32.1748878\n",
      " 25.19007303 19.57059413 27.78762644 42.86405316 26.37553219 29.32651445\n",
      " 35.67935975 35.17793209 19.82097239 32.18747054]\n"
     ]
    }
   ],
   "metadata": {}
  },
  {
   "cell_type": "code",
   "execution_count": 3,
   "source": [
    "plt.hist(s)"
   ],
   "outputs": [
    {
     "output_type": "execute_result",
     "data": {
      "text/plain": [
       "(array([ 1.,  0.,  6.,  7., 17., 27., 16., 15.,  7.,  4.]),\n",
       " array([12.00708751, 15.09278408, 18.17848064, 21.26417721, 24.34987377,\n",
       "        27.43557034, 30.5212669 , 33.60696346, 36.69266003, 39.77835659,\n",
       "        42.86405316]),\n",
       " <BarContainer object of 10 artists>)"
      ]
     },
     "metadata": {},
     "execution_count": 3
    },
    {
     "output_type": "display_data",
     "data": {
      "image/png": "[encoded data removed]",
      "text/plain": [
       "<Figure size 432x288 with 1 Axes>"
      ]
     },
     "metadata": {
      "needs_background": "light"
     }
    }
   ],
   "metadata": {}
  },
  {
   "cell_type": "code",
   "execution_count": 4,
   "source": [
    "s[85]=120\n",
    "s[15]=10"
   ],
   "outputs": [],
   "metadata": {}
  },
  {
   "cell_type": "code",
   "execution_count": 5,
   "source": [
    "np.max(s)"
   ],
   "outputs": [
    {
     "output_type": "execute_result",
     "data": {
      "text/plain": [
       "120.0"
      ]
     },
     "metadata": {},
     "execution_count": 5
    }
   ],
   "metadata": {}
  },
  {
   "cell_type": "code",
   "execution_count": 6,
   "source": [
    "np.min(s)"
   ],
   "outputs": [
    {
     "output_type": "execute_result",
     "data": {
      "text/plain": [
       "10.0"
      ]
     },
     "metadata": {},
     "execution_count": 6
    }
   ],
   "metadata": {}
  },
  {
   "cell_type": "code",
   "execution_count": 7,
   "source": [
    "df=pd.DataFrame(s,columns=['Data'])"
   ],
   "outputs": [],
   "metadata": {}
  },
  {
   "cell_type": "code",
   "execution_count": 8,
   "source": [
    "df"
   ],
   "outputs": [
    {
     "output_type": "execute_result",
     "data": {
      "text/html": [
       "<div>\n",
       "<style scoped>\n",
       "    .dataframe tbody tr th:only-of-type {\n",
       "        vertical-align: middle;\n",
       "    }\n",
       "\n",
       "    .dataframe tbody tr th {\n",
       "        vertical-align: top;\n",
       "    }\n",
       "\n",
       "    .dataframe thead th {\n",
       "        text-align: right;\n",
       "    }\n",
       "</style>\n",
       "<table border=\"1\" class=\"dataframe\">\n",
       "  <thead>\n",
       "    <tr style=\"text-align: right;\">\n",
       "      <th></th>\n",
       "      <th>Data</th>\n",
       "    </tr>\n",
       "  </thead>\n",
       "  <tbody>\n",
       "    <tr>\n",
       "      <th>0</th>\n",
       "      <td>19.522161</td>\n",
       "    </tr>\n",
       "    <tr>\n",
       "      <th>1</th>\n",
       "      <td>18.740711</td>\n",
       "    </tr>\n",
       "    <tr>\n",
       "      <th>2</th>\n",
       "      <td>34.969775</td>\n",
       "    </tr>\n",
       "    <tr>\n",
       "      <th>3</th>\n",
       "      <td>23.700481</td>\n",
       "    </tr>\n",
       "    <tr>\n",
       "      <th>4</th>\n",
       "      <td>31.028081</td>\n",
       "    </tr>\n",
       "    <tr>\n",
       "      <th>...</th>\n",
       "      <td>...</td>\n",
       "    </tr>\n",
       "    <tr>\n",
       "      <th>95</th>\n",
       "      <td>29.326514</td>\n",
       "    </tr>\n",
       "    <tr>\n",
       "      <th>96</th>\n",
       "      <td>35.679360</td>\n",
       "    </tr>\n",
       "    <tr>\n",
       "      <th>97</th>\n",
       "      <td>35.177932</td>\n",
       "    </tr>\n",
       "    <tr>\n",
       "      <th>98</th>\n",
       "      <td>19.820972</td>\n",
       "    </tr>\n",
       "    <tr>\n",
       "      <th>99</th>\n",
       "      <td>32.187471</td>\n",
       "    </tr>\n",
       "  </tbody>\n",
       "</table>\n",
       "<p>100 rows × 1 columns</p>\n",
       "</div>"
      ],
      "text/plain": [
       "         Data\n",
       "0   19.522161\n",
       "1   18.740711\n",
       "2   34.969775\n",
       "3   23.700481\n",
       "4   31.028081\n",
       "..        ...\n",
       "95  29.326514\n",
       "96  35.679360\n",
       "97  35.177932\n",
       "98  19.820972\n",
       "99  32.187471\n",
       "\n",
       "[100 rows x 1 columns]"
      ]
     },
     "metadata": {},
     "execution_count": 8
    }
   ],
   "metadata": {}
  },
  {
   "cell_type": "code",
   "execution_count": 9,
   "source": [
    "for col in df.columns:\n",
    "    col_zscore=col+'_zscore'\n",
    "    df[col_zscore]=(df[col]-df[col].mean())/df[col].std(ddof=0)"
   ],
   "outputs": [],
   "metadata": {}
  },
  {
   "cell_type": "code",
   "execution_count": 10,
   "source": [
    "df['Data_zscore']=(df['Data']-df['Data'].mean())/df[col].std(ddof=0)"
   ],
   "outputs": [],
   "metadata": {}
  },
  {
   "cell_type": "code",
   "execution_count": 11,
   "source": [
    "df['outlier']=(abs(df['Data_zscore']) >1.95 ).astype(int)"
   ],
   "outputs": [],
   "metadata": {}
  },
  {
   "cell_type": "code",
   "execution_count": 12,
   "source": [
    "df.loc[df.outlier==1]"
   ],
   "outputs": [
    {
     "output_type": "execute_result",
     "data": {
      "text/html": [
       "<div>\n",
       "<style scoped>\n",
       "    .dataframe tbody tr th:only-of-type {\n",
       "        vertical-align: middle;\n",
       "    }\n",
       "\n",
       "    .dataframe tbody tr th {\n",
       "        vertical-align: top;\n",
       "    }\n",
       "\n",
       "    .dataframe thead th {\n",
       "        text-align: right;\n",
       "    }\n",
       "</style>\n",
       "<table border=\"1\" class=\"dataframe\">\n",
       "  <thead>\n",
       "    <tr style=\"text-align: right;\">\n",
       "      <th></th>\n",
       "      <th>Data</th>\n",
       "      <th>Data_zscore</th>\n",
       "      <th>outlier</th>\n",
       "    </tr>\n",
       "  </thead>\n",
       "  <tbody>\n",
       "    <tr>\n",
       "      <th>85</th>\n",
       "      <td>120.0</td>\n",
       "      <td>8.316943</td>\n",
       "      <td>1</td>\n",
       "    </tr>\n",
       "  </tbody>\n",
       "</table>\n",
       "</div>"
      ],
      "text/plain": [
       "     Data  Data_zscore  outlier\n",
       "85  120.0     8.316943        1"
      ]
     },
     "metadata": {},
     "execution_count": 12
    }
   ],
   "metadata": {}
  },
  {
   "cell_type": "code",
   "execution_count": 13,
   "source": [
    "x=int(input('Enter weight of 10 yr old='))"
   ],
   "outputs": [],
   "metadata": {}
  },
  {
   "cell_type": "code",
   "execution_count": 14,
   "source": [
    "meann=df['Data'].mean()\n",
    "meann"
   ],
   "outputs": [
    {
     "output_type": "execute_result",
     "data": {
      "text/plain": [
       "30.490983691708237"
      ]
     },
     "metadata": {},
     "execution_count": 14
    }
   ],
   "metadata": {}
  },
  {
   "cell_type": "code",
   "execution_count": 15,
   "source": [
    "stdd=df[col].std(ddof=0)\n",
    "stdd"
   ],
   "outputs": [
    {
     "output_type": "execute_result",
     "data": {
      "text/plain": [
       "10.762250174905482"
      ]
     },
     "metadata": {},
     "execution_count": 15
    }
   ],
   "metadata": {}
  },
  {
   "cell_type": "code",
   "execution_count": 16,
   "source": [
    "abs((x-meann)/stdd)"
   ],
   "outputs": [
    {
     "output_type": "execute_result",
     "data": {
      "text/plain": [
       "1.7181336050730331"
      ]
     },
     "metadata": {},
     "execution_count": 16
    }
   ],
   "metadata": {}
  },
  {
   "cell_type": "code",
   "execution_count": 17,
   "source": [
    "if (abs((x-meann)/stdd) >1.95):\n",
    "    print('this is an Outlier for X=',x,)\n",
    "else:\n",
    "    print('Reject H0:',x,' is not an Outlier')"
   ],
   "outputs": [
    {
     "output_type": "stream",
     "name": "stdout",
     "text": [
      "Reject H0: 12  is not an Outlier\n"
     ]
    }
   ],
   "metadata": {}
  },
  {
   "cell_type": "markdown",
   "source": [
    "# 3 Use T-test for testing comparing the meansa of two samples if t they belong to the same population\n"
   ],
   "metadata": {}
  },
  {
   "cell_type": "markdown",
   "source": [
    "## H0= Same Distro\n",
    "## H1= Different Distro\n"
   ],
   "metadata": {}
  },
  {
   "cell_type": "code",
   "execution_count": 18,
   "source": [
    "np.random.seed(8)"
   ],
   "outputs": [],
   "metadata": {}
  },
  {
   "cell_type": "code",
   "execution_count": 19,
   "source": [
    "s1_sales=np.random.randint(1500,3000,100)\n",
    "s1_sales"
   ],
   "outputs": [
    {
     "output_type": "execute_result",
     "data": {
      "text/plain": [
       "array([1951, 2864, 1861, 1633, 2486, 1636, 2351, 2884, 1548, 2609, 2328,\n",
       "       1615, 1958, 2167, 2120, 1769, 2585, 1643, 2873, 2878, 2839, 1770,\n",
       "       2626, 1849, 1940, 2277, 2063, 2464, 2449, 2327, 1670, 1910, 1822,\n",
       "       2533, 2905, 1994, 2605, 1847, 1991, 2075, 2098, 2555, 2544, 2185,\n",
       "       2033, 2212, 2488, 1528, 2235, 2059, 2918, 2441, 2526, 1922, 1699,\n",
       "       2647, 2900, 2741, 2464, 2817, 2887, 1950, 2990, 2834, 1923, 2134,\n",
       "       2570, 1851, 2684, 2341, 2494, 1507, 2906, 2917, 2242, 1926, 1519,\n",
       "       2327, 1804, 2028, 1612, 1706, 1618, 2261, 2451, 2256, 1605, 2288,\n",
       "       2772, 1598, 2739, 2750, 1506, 2267, 2936, 2334, 2159, 1983, 2599,\n",
       "       2791])"
      ]
     },
     "metadata": {},
     "execution_count": 19
    }
   ],
   "metadata": {}
  },
  {
   "cell_type": "code",
   "execution_count": 20,
   "source": [
    "s2_sales=np.random.randint(500,1500,50)\n",
    "s2_sales"
   ],
   "outputs": [
    {
     "output_type": "execute_result",
     "data": {
      "text/plain": [
       "array([ 674,  720,  956, 1451,  973, 1410, 1179, 1411,  647, 1070, 1372,\n",
       "       1380,  881,  875,  880, 1055, 1027,  528, 1111, 1428,  669,  644,\n",
       "       1086,  661,  993, 1462,  954, 1202, 1019, 1351, 1276,  918, 1309,\n",
       "       1441,  650, 1216,  976,  841, 1061,  919, 1169, 1297, 1248,  692,\n",
       "       1060, 1200,  684, 1466,  923,  780])"
      ]
     },
     "metadata": {},
     "execution_count": 20
    }
   ],
   "metadata": {}
  },
  {
   "cell_type": "code",
   "execution_count": 21,
   "source": [
    "ax=sns.distplot(s1_sales)\n",
    "ax.set(xlabel='sales prices ',ylabel='probability value',title='prob. distribution')\n",
    "ax=sns.distplot(s2_sales)\n",
    "ax.set(xlabel='sales prices  ',ylabel='probability value',title='prob. distribution')"
   ],
   "outputs": [
    {
     "output_type": "stream",
     "name": "stderr",
     "text": [
      "/home/brshank/.local/lib/python3.8/site-packages/seaborn/distributions.py:2619: FutureWarning: `distplot` is a deprecated function and will be removed in a future version. Please adapt your code to use either `displot` (a figure-level function with similar flexibility) or `histplot` (an axes-level function for histograms).\n",
      "  warnings.warn(msg, FutureWarning)\n",
      "/home/brshank/.local/lib/python3.8/site-packages/seaborn/distributions.py:2619: FutureWarning: `distplot` is a deprecated function and will be removed in a future version. Please adapt your code to use either `displot` (a figure-level function with similar flexibility) or `histplot` (an axes-level function for histograms).\n",
      "  warnings.warn(msg, FutureWarning)\n"
     ]
    },
    {
     "output_type": "execute_result",
     "data": {
      "text/plain": [
       "[Text(0.5, 0, 'sales prices  '),\n",
       " Text(0, 0.5, 'probability value'),\n",
       " Text(0.5, 1.0, 'prob. distribution')]"
      ]
     },
     "metadata": {},
     "execution_count": 21
    },
    {
     "output_type": "display_data",
     "data": {
      "image/png": "[encoded data removed]",
      "text/plain": [
       "<Figure size 432x288 with 1 Axes>"
      ]
     },
     "metadata": {
      "needs_background": "light"
     }
    }
   ],
   "metadata": {}
  },
  {
   "cell_type": "code",
   "execution_count": 22,
   "source": [
    "from scipy.stats import ttest_ind\n",
    "#alpha = 1- confidence \n",
    "def compare_2_Sales(arr1,arr2,alpha,sample_size):\n",
    "    stats,p = ttest_ind(arr1,arr2)\n",
    "    if p>alpha:\n",
    "        print('H0:Accept for ', 100*(1-alpha),'\"%\" confidence == Same Distribution')\n",
    "    else:\n",
    "        print('H1: Reject for ', 100*(1-alpha),'\"%\" confidence == Different Distribution')"
   ],
   "outputs": [],
   "metadata": {}
  },
  {
   "cell_type": "code",
   "execution_count": 23,
   "source": [
    "sample_size=15\n",
    "s1_sample=np.random.choice(s1_sales,sample_size)\n",
    "s2_sample=np.random.choice(s2_sales,sample_size)"
   ],
   "outputs": [],
   "metadata": {}
  },
  {
   "cell_type": "code",
   "execution_count": 24,
   "source": [
    "perc_confidence=int(input('Enter Confidence %='))\n",
    "alpha=1-(perc_confidence/100)\n",
    "compare_2_Sales(s1_sample,s2_sample,alpha,sample_size)\n"
   ],
   "outputs": [
    {
     "output_type": "stream",
     "name": "stdout",
     "text": [
      "H1: Reject for  95.0 \"%\" confidence == Different Distribution\n"
     ]
    }
   ],
   "metadata": {}
  },
  {
   "cell_type": "markdown",
   "source": [
    "## Conclusion=\n",
    "### WE STUDIED ABOUT THE ZTESTS AND HYPOTHESIS TESTING \n",
    "## Took some Real Life examples and implemented the z test "
   ],
   "metadata": {}
  }
 ],
 "metadata": {
  "orig_nbformat": 4,
  "language_info": {
   "name": "python",
   "version": "3.8.10",
   "mimetype": "text/x-python",
   "codemirror_mode": {
    "name": "ipython",
    "version": 3
   },
   "pygments_lexer": "ipython3",
   "nbconvert_exporter": "python",
   "file_extension": ".py"
  },
  "kernelspec": {
   "name": "python3",
   "display_name": "Python 3.8.10 64-bit"
  },
  "interpreter": {
   "hash": "916dbcbb3f70747c44a77c7bcd40155683ae19c65e1c03b4aa3499c5328201f1"
  }
 },
 "nbformat": 4,
 "nbformat_minor": 2
}