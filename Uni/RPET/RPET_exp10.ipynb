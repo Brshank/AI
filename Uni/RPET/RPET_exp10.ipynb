{
 "cells": [
  {
   "cell_type": "markdown",
   "source": [
    "# Hypothesis Tests\n",
    "## Name: Brshank Singh Negi\n",
    "## Roll No: I032\n",
    "## B.Tech AI\n",
    "# **EXPT 10**"
   ],
   "metadata": {}
  },
  {
   "cell_type": "markdown",
   "source": [
    "AIM:\n",
    "1. Outlier Detection using Z-score / Z-test\n",
    "2. Use T-test for testing/comparing the means of two samples if they belong to the same population"
   ],
   "metadata": {}
  },
  {
   "cell_type": "code",
   "execution_count": 1,
   "source": [
    "import numpy as np\n",
    "import pandas as pd\n",
    "import matplotlib.pyplot as plt\n",
    "import scipy.stats as stats\n",
    "import math\n",
    "import random\n",
    "import seaborn as sns\n",
    "# warnings.filterwarnings('ignore')"
   ],
   "outputs": [],
   "metadata": {}
  },
  {
   "cell_type": "code",
   "execution_count": 2,
   "source": [
    "mu,sigma=30,5\n",
    "s=np.random.normal(mu,sigma,100)\n",
    "print(s)\n"
   ],
   "outputs": [
    {
     "output_type": "stream",
     "name": "stdout",
     "text": [
      "[27.54274172 40.23508617 23.48193967 28.49480711 27.52202846 31.18853902\n",
      " 20.33190763 35.99166655 26.39965896 30.94846214 22.55666307 25.03351992\n",
      " 32.44038382 24.38166944 25.53932283 31.6872087  27.40695685 35.41080973\n",
      " 30.99179138 22.98319489 26.0020423  25.48804026 38.25695733 23.15041683\n",
      " 29.22524713 37.83708634 27.04318846 22.83204444 24.69078896 30.81057452\n",
      " 18.17475526 24.9199254  24.08671896 33.92308073 25.21196955 30.71883696\n",
      " 28.11974115 44.36660346 33.62226077 23.44197346 22.55388269 30.21415082\n",
      " 32.72687719 36.97293396 32.27670121 40.05579385 36.43658077 29.17293796\n",
      " 27.45925021 28.0655532  23.23883148 28.26355452 29.79381649 25.04961128\n",
      " 31.36160517 26.38401335 34.51805142 33.73611202 19.4980496  28.60787735\n",
      " 26.24207934 28.93863761 34.95557386 24.57258032 23.1766287  29.75395505\n",
      " 28.57949042 33.42890629 26.80215961 27.2921378  20.62895588 35.74302249\n",
      " 35.94456991 25.19685028 36.87198892 33.76543244 26.00917523 31.45058257\n",
      " 22.84522113 35.31920271 29.01668255 23.63277542 31.76598394 28.2681018\n",
      " 28.82830407 20.38722083 25.59879069 37.99338714 34.31447522 36.21306636\n",
      " 24.44778044 36.75830092 33.88342825 28.8083205  26.77923802 30.25635144\n",
      " 27.6067184  37.20376354 26.43135962 31.79569871]\n"
     ]
    }
   ],
   "metadata": {}
  },
  {
   "cell_type": "code",
   "execution_count": 3,
   "source": [
    "plt.hist(s)"
   ],
   "outputs": [
    {
     "output_type": "execute_result",
     "data": {
      "text/plain": [
       "(array([ 5.,  8., 18., 20., 15., 13., 11.,  7.,  2.,  1.]),\n",
       " array([18.17475526, 20.79394008, 23.4131249 , 26.03230972, 28.65149454,\n",
       "        31.27067936, 33.88986418, 36.509049  , 39.12823382, 41.74741864,\n",
       "        44.36660346]),\n",
       " <BarContainer object of 10 artists>)"
      ]
     },
     "metadata": {},
     "execution_count": 3
    },
    {
     "output_type": "display_data",
     "data": {
      "image/png": "[encoded data removed]",
      "text/plain": [
       "<Figure size 432x288 with 1 Axes>"
      ]
     },
     "metadata": {
      "needs_background": "light"
     }
    }
   ],
   "metadata": {}
  },
  {
   "cell_type": "code",
   "execution_count": 4,
   "source": [
    "s[85]=120\n",
    "s[15]=10"
   ],
   "outputs": [],
   "metadata": {}
  },
  {
   "cell_type": "code",
   "execution_count": 5,
   "source": [
    "np.max(s)"
   ],
   "outputs": [
    {
     "output_type": "execute_result",
     "data": {
      "text/plain": [
       "120.0"
      ]
     },
     "metadata": {},
     "execution_count": 5
    }
   ],
   "metadata": {}
  },
  {
   "cell_type": "code",
   "execution_count": 6,
   "source": [
    "np.min(s)"
   ],
   "outputs": [
    {
     "output_type": "execute_result",
     "data": {
      "text/plain": [
       "10.0"
      ]
     },
     "metadata": {},
     "execution_count": 6
    }
   ],
   "metadata": {}
  },
  {
   "cell_type": "code",
   "execution_count": 7,
   "source": [
    "df=pd.DataFrame(s,columns=['Data'])"
   ],
   "outputs": [],
   "metadata": {}
  },
  {
   "cell_type": "code",
   "execution_count": 8,
   "source": [
    "df"
   ],
   "outputs": [
    {
     "output_type": "execute_result",
     "data": {
      "text/html": [
       "<div>\n",
       "<style scoped>\n",
       "    .dataframe tbody tr th:only-of-type {\n",
       "        vertical-align: middle;\n",
       "    }\n",
       "\n",
       "    .dataframe tbody tr th {\n",
       "        vertical-align: top;\n",
       "    }\n",
       "\n",
       "    .dataframe thead th {\n",
       "        text-align: right;\n",
       "    }\n",
       "</style>\n",
       "<table border=\"1\" class=\"dataframe\">\n",
       "  <thead>\n",
       "    <tr style=\"text-align: right;\">\n",
       "      <th></th>\n",
       "      <th>Data</th>\n",
       "    </tr>\n",
       "  </thead>\n",
       "  <tbody>\n",
       "    <tr>\n",
       "      <th>0</th>\n",
       "      <td>27.542742</td>\n",
       "    </tr>\n",
       "    <tr>\n",
       "      <th>1</th>\n",
       "      <td>40.235086</td>\n",
       "    </tr>\n",
       "    <tr>\n",
       "      <th>2</th>\n",
       "      <td>23.481940</td>\n",
       "    </tr>\n",
       "    <tr>\n",
       "      <th>3</th>\n",
       "      <td>28.494807</td>\n",
       "    </tr>\n",
       "    <tr>\n",
       "      <th>4</th>\n",
       "      <td>27.522028</td>\n",
       "    </tr>\n",
       "    <tr>\n",
       "      <th>...</th>\n",
       "      <td>...</td>\n",
       "    </tr>\n",
       "    <tr>\n",
       "      <th>95</th>\n",
       "      <td>30.256351</td>\n",
       "    </tr>\n",
       "    <tr>\n",
       "      <th>96</th>\n",
       "      <td>27.606718</td>\n",
       "    </tr>\n",
       "    <tr>\n",
       "      <th>97</th>\n",
       "      <td>37.203764</td>\n",
       "    </tr>\n",
       "    <tr>\n",
       "      <th>98</th>\n",
       "      <td>26.431360</td>\n",
       "    </tr>\n",
       "    <tr>\n",
       "      <th>99</th>\n",
       "      <td>31.795699</td>\n",
       "    </tr>\n",
       "  </tbody>\n",
       "</table>\n",
       "<p>100 rows × 1 columns</p>\n",
       "</div>"
      ],
      "text/plain": [
       "         Data\n",
       "0   27.542742\n",
       "1   40.235086\n",
       "2   23.481940\n",
       "3   28.494807\n",
       "4   27.522028\n",
       "..        ...\n",
       "95  30.256351\n",
       "96  27.606718\n",
       "97  37.203764\n",
       "98  26.431360\n",
       "99  31.795699\n",
       "\n",
       "[100 rows x 1 columns]"
      ]
     },
     "metadata": {},
     "execution_count": 8
    }
   ],
   "metadata": {}
  },
  {
   "cell_type": "code",
   "execution_count": 9,
   "source": [
    "for col in df.columns:\n",
    "    col_zscore=col+'_zscore'\n",
    "    df[col_zscore]=(df[col]-df[col].mean())/df[col].std(ddof=0)"
   ],
   "outputs": [],
   "metadata": {}
  },
  {
   "cell_type": "code",
   "execution_count": 10,
   "source": [
    "df['Data_zscore']=(df['Data']-df['Data'].mean())/df[col].std(ddof=0)"
   ],
   "outputs": [],
   "metadata": {}
  },
  {
   "cell_type": "code",
   "execution_count": 11,
   "source": [
    "df['outlier']=(abs(df['Data_zscore']) >1.95 ).astype(int)"
   ],
   "outputs": [],
   "metadata": {}
  },
  {
   "cell_type": "code",
   "execution_count": 12,
   "source": [
    "df.loc[df.outlier==1]"
   ],
   "outputs": [
    {
     "output_type": "execute_result",
     "data": {
      "text/html": [
       "<div>\n",
       "<style scoped>\n",
       "    .dataframe tbody tr th:only-of-type {\n",
       "        vertical-align: middle;\n",
       "    }\n",
       "\n",
       "    .dataframe tbody tr th {\n",
       "        vertical-align: top;\n",
       "    }\n",
       "\n",
       "    .dataframe thead th {\n",
       "        text-align: right;\n",
       "    }\n",
       "</style>\n",
       "<table border=\"1\" class=\"dataframe\">\n",
       "  <thead>\n",
       "    <tr style=\"text-align: right;\">\n",
       "      <th></th>\n",
       "      <th>Data</th>\n",
       "      <th>Data_zscore</th>\n",
       "      <th>outlier</th>\n",
       "    </tr>\n",
       "  </thead>\n",
       "  <tbody>\n",
       "    <tr>\n",
       "      <th>85</th>\n",
       "      <td>120.0</td>\n",
       "      <td>8.502179</td>\n",
       "      <td>1</td>\n",
       "    </tr>\n",
       "  </tbody>\n",
       "</table>\n",
       "</div>"
      ],
      "text/plain": [
       "     Data  Data_zscore  outlier\n",
       "85  120.0     8.502179        1"
      ]
     },
     "metadata": {},
     "execution_count": 12
    }
   ],
   "metadata": {}
  },
  {
   "cell_type": "code",
   "execution_count": 13,
   "source": [
    "x=int(input('Enter weight of 10 yr old='))\n"
   ],
   "outputs": [],
   "metadata": {}
  },
  {
   "cell_type": "code",
   "execution_count": 14,
   "source": [
    "meann=df['Data'].mean()\n",
    "meann"
   ],
   "outputs": [
    {
     "output_type": "execute_result",
     "data": {
      "text/plain": [
       "30.04309263749888"
      ]
     },
     "metadata": {},
     "execution_count": 14
    }
   ],
   "metadata": {}
  },
  {
   "cell_type": "code",
   "execution_count": 15,
   "source": [
    "stdd=df[col].std(ddof=0)\n",
    "stdd"
   ],
   "outputs": [
    {
     "output_type": "execute_result",
     "data": {
      "text/plain": [
       "10.580453189852713"
      ]
     },
     "metadata": {},
     "execution_count": 15
    }
   ],
   "metadata": {}
  },
  {
   "cell_type": "code",
   "execution_count": 16,
   "source": [
    "abs((x-meann)/stdd)"
   ],
   "outputs": [
    {
     "output_type": "execute_result",
     "data": {
      "text/plain": [
       "9.447318141189431"
      ]
     },
     "metadata": {},
     "execution_count": 16
    }
   ],
   "metadata": {}
  },
  {
   "cell_type": "code",
   "execution_count": 17,
   "source": [
    "if (abs((x-meann)/stdd) >1.95):\n",
    "    print('this is an Outlier for X=',x,)\n",
    "else:\n",
    "    print('Reject H0:',x,' is not an Outlier')"
   ],
   "outputs": [
    {
     "output_type": "stream",
     "name": "stdout",
     "text": [
      "this is an Outlier for X= 130\n"
     ]
    }
   ],
   "metadata": {}
  },
  {
   "cell_type": "markdown",
   "source": [
    "# 3 Use T-test for testing comparing the meansa of two samples if t they belong to the same population\n"
   ],
   "metadata": {}
  },
  {
   "cell_type": "code",
   "execution_count": 18,
   "source": [
    "np.random.seed(8)"
   ],
   "outputs": [],
   "metadata": {}
  },
  {
   "cell_type": "code",
   "execution_count": 19,
   "source": [
    "s1_sales=np.random.randint(1500,3000,100)\n",
    "s1_sales"
   ],
   "outputs": [
    {
     "output_type": "execute_result",
     "data": {
      "text/plain": [
       "array([1951, 2864, 1861, 1633, 2486, 1636, 2351, 2884, 1548, 2609, 2328,\n",
       "       1615, 1958, 2167, 2120, 1769, 2585, 1643, 2873, 2878, 2839, 1770,\n",
       "       2626, 1849, 1940, 2277, 2063, 2464, 2449, 2327, 1670, 1910, 1822,\n",
       "       2533, 2905, 1994, 2605, 1847, 1991, 2075, 2098, 2555, 2544, 2185,\n",
       "       2033, 2212, 2488, 1528, 2235, 2059, 2918, 2441, 2526, 1922, 1699,\n",
       "       2647, 2900, 2741, 2464, 2817, 2887, 1950, 2990, 2834, 1923, 2134,\n",
       "       2570, 1851, 2684, 2341, 2494, 1507, 2906, 2917, 2242, 1926, 1519,\n",
       "       2327, 1804, 2028, 1612, 1706, 1618, 2261, 2451, 2256, 1605, 2288,\n",
       "       2772, 1598, 2739, 2750, 1506, 2267, 2936, 2334, 2159, 1983, 2599,\n",
       "       2791])"
      ]
     },
     "metadata": {},
     "execution_count": 19
    }
   ],
   "metadata": {}
  },
  {
   "cell_type": "code",
   "execution_count": 20,
   "source": [
    "s2_sales=np.random.randint(500,1500,50)\n",
    "s2_sales"
   ],
   "outputs": [
    {
     "output_type": "execute_result",
     "data": {
      "text/plain": [
       "array([ 674,  720,  956, 1451,  973, 1410, 1179, 1411,  647, 1070, 1372,\n",
       "       1380,  881,  875,  880, 1055, 1027,  528, 1111, 1428,  669,  644,\n",
       "       1086,  661,  993, 1462,  954, 1202, 1019, 1351, 1276,  918, 1309,\n",
       "       1441,  650, 1216,  976,  841, 1061,  919, 1169, 1297, 1248,  692,\n",
       "       1060, 1200,  684, 1466,  923,  780])"
      ]
     },
     "metadata": {},
     "execution_count": 20
    }
   ],
   "metadata": {}
  },
  {
   "cell_type": "code",
   "execution_count": null,
   "source": [],
   "outputs": [],
   "metadata": {}
  },
  {
   "cell_type": "code",
   "execution_count": 25,
   "source": [
    "ax=sns.distplot(s1_sales)\n",
    "ax.set(xlabel='sales prices ',ylabel='probability value',title='prob. distribution')\n",
    "ax=sns.distplot(s2_sales)\n",
    "ax.set(xlabel='sales prices  ',ylabel='probability value',title='prob. distribution')"
   ],
   "outputs": [
    {
     "output_type": "stream",
     "name": "stderr",
     "text": [
      "/home/brshank/.local/lib/python3.8/site-packages/seaborn/distributions.py:2619: FutureWarning: `distplot` is a deprecated function and will be removed in a future version. Please adapt your code to use either `displot` (a figure-level function with similar flexibility) or `histplot` (an axes-level function for histograms).\n",
      "  warnings.warn(msg, FutureWarning)\n",
      "/home/brshank/.local/lib/python3.8/site-packages/seaborn/distributions.py:2619: FutureWarning: `distplot` is a deprecated function and will be removed in a future version. Please adapt your code to use either `displot` (a figure-level function with similar flexibility) or `histplot` (an axes-level function for histograms).\n",
      "  warnings.warn(msg, FutureWarning)\n"
     ]
    },
    {
     "output_type": "execute_result",
     "data": {
      "text/plain": [
       "[Text(0.5, 0, 'sales prices  '),\n",
       " Text(0, 0.5, 'probability value'),\n",
       " Text(0.5, 1.0, 'prob. distribution')]"
      ]
     },
     "metadata": {},
     "execution_count": 25
    },
    {
     "output_type": "display_data",
     "data": {
      "image/png": "[encoded data removed]",
      "text/plain": [
       "<Figure size 432x288 with 1 Axes>"
      ]
     },
     "metadata": {
      "needs_background": "light"
     }
    }
   ],
   "metadata": {}
  },
  {
   "cell_type": "code",
   "execution_count": null,
   "source": [
    "from scipy.stats import ttest_ind_from_statse\n",
    "\n",
    "def compare"
   ],
   "outputs": [],
   "metadata": {}
  }
 ],
 "metadata": {
  "orig_nbformat": 4,
  "language_info": {
   "name": "python",
   "version": "3.8.10",
   "mimetype": "text/x-python",
   "codemirror_mode": {
    "name": "ipython",
    "version": 3
   },
   "pygments_lexer": "ipython3",
   "nbconvert_exporter": "python",
   "file_extension": ".py"
  },
  "kernelspec": {
   "name": "python3",
   "display_name": "Python 3.8.10 64-bit"
  },
  "interpreter": {
   "hash": "916dbcbb3f70747c44a77c7bcd40155683ae19c65e1c03b4aa3499c5328201f1"
  }
 },
 "nbformat": 4,
 "nbformat_minor": 2
}