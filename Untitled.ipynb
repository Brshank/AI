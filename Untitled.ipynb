{
 "cells": [
  {
   "cell_type": "code",
   "execution_count": 3,
   "metadata": {},
   "outputs": [
    {
     "name": "stdout",
     "output_type": "stream",
     "text": [
      "how many runs for 1's do u want=4\n",
      "number of counters of run for= 0\n",
      "Ctr1= 6\n"
     ]
    }
   ],
   "source": [
    "ctr=0\n",
    "j=0\n",
    "i=0\n",
    "x=0\n",
    "z=0\n",
    "y=0\n",
    "ctr1=0\n",
    "k=0\n",
    "with open(\"bin.txt\", \"r\") as f:\n",
    "    findrun=f.read()  \n",
    "run=int(input(\"how many runs for 1's do u want=\"))\n",
    "x=int(len(findrun)-(run-1))\n",
    "\n",
    "for z in range(i,x):\n",
    "    for  y in range(j,run):\n",
    "        if findrun[k]=='1':\n",
    "            ctr1+=1\n",
    "        k+=1\n",
    "    k=0\n",
    "    if ctr1==run:\n",
    "        ctr+=1 \n",
    "    j+=1      \n",
    "if (ctr/(x)*100) >=20:\n",
    "    print('YES, it has ctrs gr8r than 20%')\n",
    "print('number of counters of run for=',ctr)\n",
    "print('Ctr1=',ctr1)"
   ]
  },
  {
   "cell_type": "code",
   "execution_count": null,
   "metadata": {},
   "outputs": [],
   "source": []
  }
 ],
 "metadata": {
  "kernelspec": {
   "display_name": "Python 3",
   "language": "python",
   "name": "python3"
  },
  "language_info": {
   "codemirror_mode": {
    "name": "ipython",
    "version": 3
   },
   "file_extension": ".py",
   "mimetype": "text/x-python",
   "name": "python",
   "nbconvert_exporter": "python",
   "pygments_lexer": "ipython3",
   "version": "3.8.5"
  }
 },
 "nbformat": 4,
 "nbformat_minor": 4
}
